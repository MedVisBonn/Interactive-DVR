{
 "cells": [
  {
   "cell_type": "code",
   "execution_count": 1,
   "id": "d0bf23e6-9421-4bfe-96b7-c9fbbf9f7576",
   "metadata": {},
   "outputs": [],
   "source": [
    "import numpy as np\n",
    "import pandas as pd\n",
    "import seaborn as sns\n",
    "import matplotlib.pyplot as plt"
   ]
  },
  {
   "cell_type": "code",
   "execution_count": 4,
   "id": "c7473277-becf-4b8c-929f-a75143de1ee3",
   "metadata": {
    "jupyter": {
     "source_hidden": true
    },
    "tags": []
   },
   "outputs": [
    {
     "data": {
      "text/html": [
       "<style>\n",
       "  table {margin-left: 0 !important;}\n",
       "</style>\n"
      ],
      "text/plain": [
       "<IPython.core.display.HTML object>"
      ]
     },
     "metadata": {},
     "output_type": "display_data"
    }
   ],
   "source": [
    "%%html\n",
    "<style>\n",
    "  table {margin-left: 0 !important;}\n",
    "</style>"
   ]
  },
  {
   "cell_type": "markdown",
   "id": "a021693c-2b9a-4df6-ae75-3a776d12ba01",
   "metadata": {},
   "source": [
    "| Attribute | Description |\n",
    "|-----------|:-------------|\n",
    "| F1        | F1 score obtained from evaluating the RF on the test data |\n",
    "| Method    | where features come from; raw data, pca, un- / pre- / re-trained CNN |\n",
    "| Class     | which part of the brain |\n",
    "| Set       | from which set the data comes from; set 1 and 2 from paper |\n",
    "| Iter      | in which iteration the result was obtained. Here, we do 10 iterations |"
   ]
  },
  {
   "cell_type": "code",
   "execution_count": 2,
   "id": "7b1e95c7-7217-4bc0-8c55-3d2650db0574",
   "metadata": {},
   "outputs": [
    {
     "data": {
      "text/html": [
       "<div>\n",
       "<style scoped>\n",
       "    .dataframe tbody tr th:only-of-type {\n",
       "        vertical-align: middle;\n",
       "    }\n",
       "\n",
       "    .dataframe tbody tr th {\n",
       "        vertical-align: top;\n",
       "    }\n",
       "\n",
       "    .dataframe thead th {\n",
       "        text-align: right;\n",
       "    }\n",
       "</style>\n",
       "<table border=\"1\" class=\"dataframe\">\n",
       "  <thead>\n",
       "    <tr style=\"text-align: right;\">\n",
       "      <th></th>\n",
       "      <th>f1</th>\n",
       "      <th>method</th>\n",
       "      <th>class</th>\n",
       "      <th>set</th>\n",
       "      <th>iter</th>\n",
       "    </tr>\n",
       "  </thead>\n",
       "  <tbody>\n",
       "    <tr>\n",
       "      <th>0</th>\n",
       "      <td>0.764839</td>\n",
       "      <td>raw</td>\n",
       "      <td>Other</td>\n",
       "      <td>1</td>\n",
       "      <td>0</td>\n",
       "    </tr>\n",
       "    <tr>\n",
       "      <th>1</th>\n",
       "      <td>0.115144</td>\n",
       "      <td>raw</td>\n",
       "      <td>CG</td>\n",
       "      <td>1</td>\n",
       "      <td>0</td>\n",
       "    </tr>\n",
       "    <tr>\n",
       "      <th>2</th>\n",
       "      <td>0.357311</td>\n",
       "      <td>raw</td>\n",
       "      <td>CST</td>\n",
       "      <td>1</td>\n",
       "      <td>0</td>\n",
       "    </tr>\n",
       "    <tr>\n",
       "      <th>3</th>\n",
       "      <td>0.101185</td>\n",
       "      <td>raw</td>\n",
       "      <td>FX</td>\n",
       "      <td>1</td>\n",
       "      <td>0</td>\n",
       "    </tr>\n",
       "    <tr>\n",
       "      <th>4</th>\n",
       "      <td>0.432561</td>\n",
       "      <td>raw</td>\n",
       "      <td>CC</td>\n",
       "      <td>1</td>\n",
       "      <td>0</td>\n",
       "    </tr>\n",
       "  </tbody>\n",
       "</table>\n",
       "</div>"
      ],
      "text/plain": [
       "         f1 method  class set iter\n",
       "0  0.764839    raw  Other   1    0\n",
       "1  0.115144    raw     CG   1    0\n",
       "2  0.357311    raw    CST   1    0\n",
       "3  0.101185    raw     FX   1    0\n",
       "4  0.432561    raw     CC   1    0"
      ]
     },
     "execution_count": 2,
     "metadata": {},
     "output_type": "execute_result"
    }
   ],
   "source": [
    "df = pd.read_pickle('table1_data')\n",
    "df.head()"
   ]
  },
  {
   "cell_type": "code",
   "execution_count": 3,
   "id": "8f1fa6ec-20c9-44fa-9714-e3d434a1eef8",
   "metadata": {
    "tags": []
   },
   "outputs": [
    {
     "data": {
      "text/html": [
       "<div>\n",
       "<style scoped>\n",
       "    .dataframe tbody tr th:only-of-type {\n",
       "        vertical-align: middle;\n",
       "    }\n",
       "\n",
       "    .dataframe tbody tr th {\n",
       "        vertical-align: top;\n",
       "    }\n",
       "\n",
       "    .dataframe thead th {\n",
       "        text-align: right;\n",
       "    }\n",
       "</style>\n",
       "<table border=\"1\" class=\"dataframe\">\n",
       "  <thead>\n",
       "    <tr style=\"text-align: right;\">\n",
       "      <th></th>\n",
       "      <th></th>\n",
       "      <th></th>\n",
       "      <th>f1</th>\n",
       "    </tr>\n",
       "    <tr>\n",
       "      <th>method</th>\n",
       "      <th>class</th>\n",
       "      <th>set</th>\n",
       "      <th></th>\n",
       "    </tr>\n",
       "  </thead>\n",
       "  <tbody>\n",
       "    <tr>\n",
       "      <th rowspan=\"5\" valign=\"top\">pca</th>\n",
       "      <th rowspan=\"2\" valign=\"top\">Avg</th>\n",
       "      <th>1</th>\n",
       "      <td>0.293318</td>\n",
       "    </tr>\n",
       "    <tr>\n",
       "      <th>2</th>\n",
       "      <td>0.164220</td>\n",
       "    </tr>\n",
       "    <tr>\n",
       "      <th>CC</th>\n",
       "      <th>1</th>\n",
       "      <td>0.418292</td>\n",
       "    </tr>\n",
       "    <tr>\n",
       "      <th>CG</th>\n",
       "      <th>1</th>\n",
       "      <td>0.256288</td>\n",
       "    </tr>\n",
       "    <tr>\n",
       "      <th>CST</th>\n",
       "      <th>1</th>\n",
       "      <td>0.352515</td>\n",
       "    </tr>\n",
       "  </tbody>\n",
       "</table>\n",
       "</div>"
      ],
      "text/plain": [
       "                        f1\n",
       "method class set          \n",
       "pca    Avg   1    0.293318\n",
       "             2    0.164220\n",
       "       CC    1    0.418292\n",
       "       CG    1    0.256288\n",
       "       CST   1    0.352515"
      ]
     },
     "execution_count": 3,
     "metadata": {},
     "output_type": "execute_result"
    }
   ],
   "source": [
    "df.groupby(['method', 'class', 'set']).mean().head()"
   ]
  },
  {
   "cell_type": "code",
   "execution_count": 5,
   "id": "8a4d9f44-3ef1-4662-a1a5-e695ad035765",
   "metadata": {},
   "outputs": [
    {
     "data": {
      "image/png": "[encoded data removed]",
      "text/plain": [
       "<Figure size 432x288 with 1 Axes>"
      ]
     },
     "metadata": {
      "needs_background": "light"
     },
     "output_type": "display_data"
    }
   ],
   "source": [
    "p = sns.barplot(data=df[df['class'] == 'Avg'], x='method', y='f1', hue='set')\n",
    "plt.title(\"Average F1 by method and set\")\n",
    "plt.show()\n",
    "#p.get_figure().savefig('avg_f1.png', dpi=800)"
   ]
  },
  {
   "cell_type": "code",
   "execution_count": 6,
   "id": "a42d0506-a70d-447e-978c-8213537dcb10",
   "metadata": {},
   "outputs": [
    {
     "data": {
      "image/png": "[encoded data removed]",
      "text/plain": [
       "<Figure size 432x288 with 1 Axes>"
      ]
     },
     "metadata": {
      "needs_background": "light"
     },
     "output_type": "display_data"
    }
   ],
   "source": [
    "p = sns.barplot(data=df[df['set'] == 1], x='method', y='f1', hue='class')\n",
    "plt.title(\"Set 1 - F1 by method and class\")\n",
    "plt.show()\n",
    "#p.get_figure().savefig('set1.png', dpi=800)"
   ]
  },
  {
   "cell_type": "code",
   "execution_count": 7,
   "id": "3e806026-98ae-4e18-bb24-c7701f8dc807",
   "metadata": {},
   "outputs": [
    {
     "data": {
      "image/png": "[encoded data removed]",
      "text/plain": [
       "<Figure size 432x288 with 1 Axes>"
      ]
     },
     "metadata": {
      "needs_background": "light"
     },
     "output_type": "display_data"
    }
   ],
   "source": [
    "p = sns.barplot(data=df[df['set'] == 2], x='method', y='f1', hue='class')\n",
    "plt.title(\"Set 2 - F1 by method and class\")\n",
    "plt.show()\n",
    "#p.get_figure().savefig('set1.png', dpi=800)"
   ]
  },
  {
   "cell_type": "code",
   "execution_count": null,
   "id": "e0a592dc-3f2b-482e-95f9-008252bbef49",
   "metadata": {},
   "outputs": [],
   "source": []
  }
 ],
 "metadata": {
  "kernelspec": {
   "display_name": "Python 3",
   "language": "python",
   "name": "python3"
  },
  "language_info": {
   "codemirror_mode": {
    "name": "ipython",
    "version": 3
   },
   "file_extension": ".py",
   "mimetype": "text/x-python",
   "name": "python",
   "nbconvert_exporter": "python",
   "pygments_lexer": "ipython3",
   "version": "3.8.8"
  }
 },
 "nbformat": 4,
 "nbformat_minor": 5
}
