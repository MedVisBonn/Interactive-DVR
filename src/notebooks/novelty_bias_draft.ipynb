{
 "cells": [
  {
   "cell_type": "markdown",
   "metadata": {},
   "source": [
    "### Imports"
   ]
  },
  {
   "cell_type": "code",
   "execution_count": 53,
   "metadata": {},
   "outputs": [
    {
     "name": "stdout",
     "output_type": "stream",
     "text": [
      "The autoreload extension is already loaded. To reload it, use:\n",
      "  %reload_ext autoreload\n"
     ]
    }
   ],
   "source": [
    "%load_ext autoreload\n",
    "%autoreload 2"
   ]
  },
  {
   "cell_type": "code",
   "execution_count": 55,
   "metadata": {},
   "outputs": [],
   "source": [
    "import sys, os\n",
    "import numpy as np\n",
    "import torch\n",
    "from torch import Tensor\n",
    "from torch.utils.data import Dataset\n",
    "from torchvision import transforms\n",
    "import nibabel as nib\n",
    "import nrrd\n",
    "import random\n",
    "from omegaconf import OmegaConf\n",
    "from typing import Iterable, Dict, Callable, Tuple, Union\n",
    "from scipy.ndimage import binary_erosion, binary_dilation\n",
    "import random\n",
    "import matplotlib.pyplot as plt\n",
    "from matplotlib.colors import ListedColormap, Normalize\n",
    "from matplotlib.patches import Patch\n",
    "\n",
    "\n",
    "sys.path.append('..')\n",
    "from dataset import EvalDataset\n",
    "from utils import *\n",
    "from model import get_model\n",
    "from user_model import UserModel"
   ]
  },
  {
   "cell_type": "markdown",
   "metadata": {},
   "source": [
    "### Boiler plate"
   ]
  },
  {
   "cell_type": "code",
   "execution_count": 56,
   "metadata": {},
   "outputs": [],
   "source": [
    "# Load config\n",
    "cfg = OmegaConf.load('../configs/eval.yaml')"
   ]
  },
  {
   "cell_type": "code",
   "execution_count": 57,
   "metadata": {},
   "outputs": [],
   "source": [
    "# Load dataset\n",
    "dataset = EvalDataset(\n",
    "    subject_id=784565,\n",
    "    cfg=cfg, \n",
    "    modality='reconstruction',\n",
    "    to_gpu=False\n",
    ")"
   ]
  },
  {
   "cell_type": "code",
   "execution_count": 58,
   "metadata": {},
   "outputs": [
    {
     "name": "stdout",
     "output_type": "stream",
     "text": [
      "number of annotations: 684.0\n"
     ]
    }
   ],
   "source": [
    "# Update Dataset with annotations\n",
    "dataset.user = UserModel(dataset.label, 'ground_truth', cfg)\n",
    "dataset.init = 'per_class'\n",
    "# currently, there are no annotations. We can also enforce this with clear_annotations() at any point\n",
    "dataset.clear_annotation()\n",
    "# get initial annotations\n",
    "annot = dataset.initial_annotation(seed=42)\n",
    "# and update the dataset\n",
    "dataset.update_annotation(annot)\n",
    "print(f\"number of annotations: {dataset.annotations.detach().cpu().sum()}\")\n",
    "cached_annots = dataset.annotations.clone()"
   ]
  },
  {
   "cell_type": "code",
   "execution_count": 59,
   "metadata": {},
   "outputs": [
    {
     "data": {
      "text/plain": [
       "<All keys matched successfully>"
      ]
     },
     "execution_count": 59,
     "metadata": {},
     "output_type": "execute_result"
    }
   ],
   "source": [
    "# Load model\n",
    "model, state_dict = get_model(\n",
    "    cfg=cfg,\n",
    "    return_state_dict=True\n",
    ")\n",
    "model.load_state_dict(state_dict)"
   ]
  },
  {
   "cell_type": "code",
   "execution_count": 60,
   "metadata": {},
   "outputs": [],
   "source": [
    "# Extract features from model\n",
    "f_layer = 'encoder'\n",
    "# Init the feature extractor. Have a look at PyTorchs Hook functionality.\n",
    "extractor = FeatureExtractor(model, layers=[f_layer])\n",
    "# Cache all features for a dataset and reformat/move to numpy for random forest stuff\n",
    "hooked_results  = extractor(dataset)\n",
    "features = hooked_results[f_layer]\n",
    "features = features.permute(0,2,3,1).numpy()"
   ]
  },
  {
   "cell_type": "markdown",
   "metadata": {},
   "source": [
    "### Eval Definitions"
   ]
  },
  {
   "cell_type": "code",
   "execution_count": 61,
   "metadata": {},
   "outputs": [],
   "source": [
    "### Uncertainty measures\n",
    "def calc_binary_entropy(prob):\n",
    "    eps = 1e-5\n",
    "    \n",
    "    #Edge Cases\n",
    "    prob = torch.clamp(prob, eps, 1-eps)\n",
    "    \n",
    "    return -(prob*torch.log2(prob) + (1-prob)*torch.log2(1-prob))\n",
    "\n",
    "\n",
    "def uncertainty_entropy(Y_predicted_prob, n_classes, test_mask):\n",
    "    \n",
    "    entropy = calc_binary_entropy(Y_predicted_prob)\n",
    "    entropy_map = torch.zeros((145,145,145, n_classes))\n",
    "    entropy_map[test_mask  == 1] = entropy.float()\n",
    "    mean_entropy_map = entropy_map.mean(axis=-1)\n",
    "    return mean_entropy_map, entropy_map\n",
    "\n",
    "\n",
    "def uncertainty_sd(train_label, test_mask, n_classes):\n",
    "\n",
    "    train_label_tensor = torch.from_numpy(train_label)\n",
    "    annotated_voxels = torch.any(train_label_tensor, dim=-1)\n",
    "    # per class\n",
    "    sd_map_per_class = torch.zeros((n_classes, 145,145,145))\n",
    "    for i in range(n_classes):\n",
    "        train_label_i = train_label_tensor[:,:,:,i].bool()\n",
    "        sd = torch.tensor(distance_transform_edt(~train_label_i))\n",
    "        sd_map_per_class[i, test_mask == 1] = sd[test_mask == 1].float()  \n",
    "    sd_map_per_class[:, annotated_voxels] = 0 # all values of annotated voxels should be 0\n",
    "    # all classes\n",
    "    spatial_distance_map, _ = torch.min(sd_map_per_class, dim=0)\n",
    "    \n",
    "    return spatial_distance_map, sd_map_per_class.permute(1,2,3,0)\n",
    "\n",
    "\n",
    "def uncertainty_fd(train_label, features, test_mask, n_classes):\n",
    "    \n",
    "    train_label_tensor = torch.from_numpy(train_label)\n",
    "    annotated_voxels = torch.any(train_label_tensor, dim=-1)\n",
    "    brain_mask_tensor = torch.from_numpy(test_mask == 1)\n",
    "    \n",
    "    # def compute_anomaly_scores(annotated_features, mask):\n",
    "    #     iforest = IsolationForest(n_estimators=100, random_state=0, n_jobs=-1).fit(annotated_features)\n",
    "    #     anomaly_scores = iforest.decision_function(features[mask].reshape(-1, 44))\n",
    "    #     anomaly_scores = (anomaly_scores - anomaly_scores.min()) / (anomaly_scores.max() - anomaly_scores.min())\n",
    "    #     return torch.from_numpy(1 - anomaly_scores).float()\n",
    "    \n",
    "    def compute_anomaly_scores(annotated_features, mask):\n",
    "        iforest = IsolationForest(n_estimators=100, random_state=0, n_jobs=-1).fit(annotated_features)\n",
    "        anomaly_scores = iforest.decision_function(features[mask].reshape(-1, 44))\n",
    "        return anomaly_scores\n",
    "    \n",
    "    # all classes\n",
    "    annotated_features = features[annotated_voxels].reshape(-1, 44)\n",
    "    brain_na_mask = brain_mask_tensor & ~annotated_voxels\n",
    "    anomaly_scores_map = torch.zeros((145,145,145))\n",
    "    anomaly_scores_map[brain_na_mask] = torch.from_numpy(compute_anomaly_scores(annotated_features, brain_na_mask)).float()\n",
    "    min = anomaly_scores_map.min()\n",
    "    max = anomaly_scores_map.max()\n",
    "\n",
    "    anomaly_scores_map = (anomaly_scores_map - min) / (max - min)\n",
    "    anomaly_scores_map = 1 - anomaly_scores_map\n",
    "    t = (0 - min) / (max - min)\n",
    "    t = 1 - t\n",
    "    \n",
    "    # per class\n",
    "    fd_map_per_class = torch.zeros((n_classes, 145,145,145))\n",
    "    # for i in range(n_classes):\n",
    "    #     train_label_i = train_label_tensor[:,:,:,i].bool()\n",
    "    #     annotated_features = features[train_label_i].reshape(-1, 44)\n",
    "    #     brain_na_mask = brain_mask_tensor & ~train_label_i\n",
    "    #     fd_map_per_class[i, brain_na_mask == 1] = compute_anomaly_scores(annotated_features, brain_na_mask)\n",
    "    # fd_map_per_class[:, annotated_voxels] = 0 # all values of annotated voxels should be 0\n",
    "    # fd_map_per_class -= fd_map_per_class.amin(dim=(1,2,3), keepdim=True)\n",
    "    # fd_map_per_class /= fd_map_per_class.amax(dim=(1,2,3), keepdim=True)\n",
    "\n",
    "    return anomaly_scores_map, fd_map_per_class.permute(1,2,3,0), t\n",
    "\n",
    "\n",
    "def evaluate_RF(\n",
    "    dataset: Dataset, \n",
    "    features: Tensor, \n",
    "    cfg: Dict[str, str], \n",
    "    uncertainty_measures: List[str], \n",
    "    tta=False\n",
    ")-> Union[Dict[str, float], Tensor]:\n",
    "\n",
    "                ###############################\n",
    "                ##### TRAIN RANDOM FOREST #####\n",
    "                ###############################\n",
    "                \n",
    "    train_mask  = dataset.weight.detach().cpu().squeeze().numpy()    #.permute(0,2,3,1).repeat(1,1,1,44).numpy()\n",
    "    test_mask   = dataset.brain_mask.detach().cpu().numpy()#.unsqueeze(3).repeat(1,1,1,44).numpy()\n",
    "    train_label = dataset.annotations.detach().cpu().permute(1,2,3,0).numpy()\n",
    "    test_label  = dataset.label.detach().cpu().permute(1,2,3,0).numpy()\n",
    "    \n",
    "    if tta:\n",
    "        f = np.stack(features, axis=0)  # (n_tta, 145, 145, 145, 44)\n",
    "        train_m = np.repeat(train_mask[np.newaxis, ...], len(features), axis=0)  # (n_tta, 145, 145, 145)\n",
    "        test_m = np.repeat(test_mask[np.newaxis, ...], len(features), axis=0)  # (n_tta, 145, 145, 145)\n",
    "        train_l = np.repeat(train_label[np.newaxis, ...], len(features), axis=0)  # (n_tta, 145, 145, 145, 5)\n",
    "\n",
    "        X_train = f.reshape((-1, f.shape[-1]))[train_m.reshape(-1) == 1]    # (n_tta*train_voxels, 44)\n",
    "        X_test = f.reshape((-1, f.shape[-1]))[test_m.reshape(-1) == 1]    # (n_tta*844350, 44)\n",
    "        Y_train = train_l.reshape((-1, train_l.shape[-1]))[train_m.reshape(-1) == 1]   # (n_tta*train_voxels, 5)\n",
    "    \n",
    "    else:\n",
    "        # Input - Mask voxels that are not labelled before flattening the input\n",
    "        X_train = features.reshape((-1, features.shape[-1]))[train_mask.reshape(-1) == 1]\n",
    "        X_test  = features.reshape((-1, features.shape[-1]))[test_mask.reshape(-1)  == 1]\n",
    "        # Target - Same as above. Mask before flattening\n",
    "        Y_train = train_label.reshape((-1, train_label.shape[-1]))[train_mask.reshape(-1) == 1]\n",
    "\n",
    "    Y_test  = test_label.reshape((-1,  train_label.shape[-1]))[test_mask.reshape(-1)  == 1]\n",
    "\n",
    "    # Init Random Forest Classifier\n",
    "    clf = RandomForestClassifier(n_estimators=100,\n",
    "                         bootstrap=True,\n",
    "                         oob_score=True,\n",
    "                         random_state=0,\n",
    "                         n_jobs=-1,\n",
    "                         max_features=\"sqrt\", # changed from \"auto\" because auto got removed\n",
    "                         class_weight=\"balanced\",\n",
    "                         max_depth=None,\n",
    "                         min_samples_leaf=cfg[\"min_samples_leaf\"])\n",
    "\n",
    "    # Train\n",
    "    clf.fit(X_train, Y_train)\n",
    "    # predict labels in test mask\n",
    "    predicted_prob    = clf.predict_proba(X_test)\n",
    "    Y_predicted_prob  = torch.tensor(np.array([p[:, 1] for p in predicted_prob])).T\n",
    "    if tta:\n",
    "        Y_predicted_prob = Y_predicted_prob.reshape((len(features), 844350, 5)).mean(axis=0)\n",
    "    Y_predicted_label = (Y_predicted_prob > 0.5)*1\n",
    "\n",
    "\n",
    "                ###############################\n",
    "                ####### Save Prediction #######\n",
    "                ###############################\n",
    "                \n",
    "    n_classes = len(cfg['data']['labels'])\n",
    "    prediction = torch.zeros((145,145,145, n_classes))\n",
    "    prediction.view(-1, n_classes)[test_mask.reshape(-1)  == 1] = Y_predicted_label.float()\n",
    "\n",
    "                ###############################\n",
    "                ##### Evaluate Prediction #####\n",
    "                ###############################\n",
    "\n",
    "    # Constant for numerical stability\n",
    "    eps = 1e-5\n",
    "    # statictics for precision, recall and Dice (f1)\n",
    "    TP       = (Y_predicted_label * Y_test).sum(axis=0)\n",
    "    TPplusFP = Y_predicted_label.sum(axis=0)\n",
    "    TPplusFN = Y_test.sum(axis=0)\n",
    "\n",
    "    precision = (TP + eps) / (TPplusFP + eps)\n",
    "    recall    = (TP + eps) / (TPplusFN + eps)\n",
    "    f1        = (2 * precision * recall + eps) / ( precision + recall  + eps)\n",
    "\n",
    "    uncertainty_maps = {}\n",
    "    uncertainty_per_class_maps = {}\n",
    "\n",
    "    for measure in uncertainty_measures:\n",
    "        match measure:\n",
    "            case 'ground-truth':\n",
    "                continue\n",
    "            case 'random':\n",
    "                break\n",
    "            case 'entropy':\n",
    "                uncertainty_map, uncertainty_per_class = uncertainty_entropy(Y_predicted_prob, n_classes, test_mask)\n",
    "                t = 0\n",
    "            case 'spatial-distance':\n",
    "                uncertainty_map, uncertainty_per_class = uncertainty_sd(train_label, test_mask, n_classes)\n",
    "                t = 0\n",
    "            case 'feature-distance':\n",
    "                uncertainty_map, uncertainty_per_class, t = uncertainty_fd(train_label, features, test_mask, n_classes)\n",
    "            case _:\n",
    "                raise ValueError(f\"Uncertainty measure {measure} not implemented\")\n",
    "\n",
    "        uncertainty_maps[measure] = uncertainty_map\n",
    "        uncertainty_per_class_maps[measure] = uncertainty_per_class.permute(3,0,1,2)\n",
    "\n",
    "    #TODO: for measure in novelty_scores:\n",
    "\n",
    "    labels = cfg['data'][\"labels\"]\n",
    "    scores = {}\n",
    "    for c in range(len(labels)):\n",
    "        scores[f\"{labels[c]}_precision\"] = precision[c].numpy()\n",
    "        scores[f\"{labels[c]}_recall\"] = recall[c].numpy()\n",
    "        scores[f\"{labels[c]}_f1\"] = f1[c].numpy()\n",
    "\n",
    "    scores[\"Avg_prec_tracts\"] = precision[1:].mean().numpy()\n",
    "    scores[\"Avg_recall_tracts\"] = recall[1:].mean().numpy()\n",
    "    scores[\"Avg_f1_tracts\"] = f1[1:].mean().numpy()\n",
    "    \n",
    "    \n",
    "    return scores, prediction.permute(3,0,1,2), uncertainty_maps, uncertainty_per_class_maps, t"
   ]
  },
  {
   "cell_type": "markdown",
   "metadata": {},
   "source": [
    "### Experiments"
   ]
  },
  {
   "cell_type": "code",
   "execution_count": 65,
   "metadata": {},
   "outputs": [
    {
     "name": "stdout",
     "output_type": "stream",
     "text": [
      "Scores before: 0.37279602384250804\n",
      "Scores before: 0.4486248145170181\n",
      "Scores before: 0.4696605224169542\n",
      "Scores before: 0.48624584790513714\n"
     ]
    }
   ],
   "source": [
    "# umap from evaluate_RF\n",
    "# errmap from evaluate_RF -> prediction + dataset.label\n",
    "# annot from refinement_annotation\n",
    "## PARAMS\n",
    "num_iterations = 3\n",
    "\n",
    "## VARS\n",
    "raw_nmaps = []\n",
    "maps = []\n",
    "errmaps = []\n",
    "annots = []\n",
    "results = []\n",
    "thresholds = []\n",
    "\n",
    "preds = {\n",
    "    'before': [],\n",
    "    'after': []\n",
    "}\n",
    "\n",
    "# Fresh dataset\n",
    "dataset.user = UserModel(dataset.label, 'ground_truth', cfg)\n",
    "dataset.init = 'per_class'\n",
    "# currently, there are no annotations. We can also enforce this with clear_annotations() at any point\n",
    "dataset.clear_annotation()\n",
    "# get initial annotations\n",
    "annot = dataset.initial_annotation(seed=42)\n",
    "# and update the dataset\n",
    "dataset.update_annotation(annot)\n",
    "# print(f\"number of annotations: {dataset.annotations.detach().cpu().sum()}\")\n",
    "cached_annots = dataset.annotations.clone()\n",
    "gt = dataset.label.detach().cpu()\n",
    "# dataset.user = UserModel(dataset.label, 'estimated', cfg)\n",
    "scores, prediction, uncertainty_maps, uncertainty_per_class_maps, t = evaluate_RF(\n",
    "    dataset, \n",
    "    features, \n",
    "    cfg,\n",
    "    uncertainty_measures=[\n",
    "        # 'ground-truth',\n",
    "        'entropy',\n",
    "        'feature-distance',\n",
    "    ]\n",
    ")\n",
    "thresholds.append(t)\n",
    "avrg_f1 = scores['Avg_f1_tracts']\n",
    "print(f'Scores before: {avrg_f1}')\n",
    "preds['before'].append(prediction.clone())\n",
    "raw_nmaps.append(uncertainty_maps['feature-distance'].clone())\n",
    "\n",
    "results.append(scores)\n",
    "\n",
    "for i in range(num_iterations):\n",
    "\n",
    "    u_annots, selection = dataset.user.refinement_annotation(\n",
    "        prediction=prediction,\n",
    "        #self.label.detach().cpu(),\n",
    "        annotation_mask=dataset.annotations.detach().cpu(),\n",
    "        uncertainty_map=uncertainty_per_class_maps['entropy'],\n",
    "        n_samples=100,\n",
    "        mode='per_class',\n",
    "        map_type='per_class', \n",
    "        seed=42,\n",
    "        inverse_class_freq=False\n",
    "    )\n",
    "\n",
    "\n",
    "    dataset.update_annotation(u_annots)\n",
    "    # print(f\"number of uncertainty annotations: {u_annots.sum()}\")\n",
    "\n",
    "    scores, prediction, uncertainty_maps, uncertainty_per_class_maps, t = evaluate_RF(\n",
    "        dataset, \n",
    "        features, \n",
    "        cfg,\n",
    "        uncertainty_measures=[\n",
    "            # 'ground-truth',\n",
    "            'entropy',\n",
    "            'feature-distance',\n",
    "        ]\n",
    "    )\n",
    "    thresholds.append(t)\n",
    "    avrg_f1 = scores['Avg_f1_tracts']\n",
    "    print(f'Scores before: {avrg_f1}')\n",
    "    preds['before'].append(prediction.clone())\n",
    "\n",
    "    nmap = uncertainty_maps['feature-distance'].clone()\n",
    "\n",
    "\n",
    "\n",
    "    # ######\n",
    "    raw_nmaps.append(nmap)\n",
    "    # # recover actual weighting\n",
    "    # nmap = (nmap - nmap.min()) / (nmap.max() - nmap.min())\n",
    "    # nmap = 1 - nmap\n",
    "\n",
    "    ######\n",
    "\n",
    "\n",
    "    # mask = prediction[1:].any(0)\n",
    "    # nmap *= mask\n",
    "    # dataset.user = UserModel(dataset.label, 'ground_truth', cfg)\n",
    "    # n_annots, selection = dataset.user.refinement_annotation(\n",
    "    #     prediction=prediction,\n",
    "    #     #self.label.detach().cpu(),\n",
    "    #     annotation_mask=dataset.annotations.detach().cpu(),\n",
    "    #     uncertainty_map=nmap,\n",
    "    #     n_samples=200,\n",
    "    #     mode='single_slice',\n",
    "    #     map_type='per_slice', \n",
    "    #     seed=42,\n",
    "    #     inverse_class_freq=False\n",
    "    # )    \n",
    "\n",
    "    # dataset.update_annotation(n_annots)\n",
    "    # print(f\"number of novelty annotations: {n_annots.sum()}\")\n",
    "    # print(f\"number of annotations: {dataset.annotations.detach().cpu().sum()}\")\n",
    "    # collect\n",
    "    errmap = torch.any((prediction != gt) * dataset.brain_mask.detach().cpu(), dim=0)\n",
    "    # maps.append(nmap[selection[1:]])\n",
    "    # annots.append(n_annots.any(0)[selection[1:]])\n",
    "    errmaps.append(errmap[selection[1:]])\n",
    "\n",
    "# scores, prediction, uncertainty_maps, uncertainty_per_class_maps, t = evaluate_RF(\n",
    "#     dataset, \n",
    "#     features, \n",
    "#     cfg, \n",
    "#     uncertainty_measures=[\n",
    "#         # 'ground-truth', \n",
    "#         # 'entropy', \n",
    "#         'feature-distance', \n",
    "#     ]\n",
    "# )\n",
    "# preds['after'].append(prediction.clone())\n",
    "# errmap = torch.any((prediction != gt) * dataset.brain_mask.detach().cpu(), dim=0)\n",
    "# # avrg_f1 = scores['Avg_f1_tracts']\n",
    "# # print(f'Scores after: {avrg_f1}')\n",
    "# results.append(scores)\n",
    "# thresholds.append(t)\n",
    "# nmap = uncertainty_maps['feature-distance'].clone()\n",
    "# raw_nmaps.append(nmap)"
   ]
  },
  {
   "cell_type": "code",
   "execution_count": 83,
   "metadata": {},
   "outputs": [],
   "source": [
    "p = preds['before'][0].clone()\n",
    "m = raw_nmaps[0].clone()\n",
    "dicts = []\n",
    "threshold = thresholds[0]"
   ]
  },
  {
   "cell_type": "code",
   "execution_count": 78,
   "metadata": {},
   "outputs": [],
   "source": [
    "p[:, m>threshold] = torch.tensor([1, 0, 0, 0, 0])[:, None].float()"
   ]
  },
  {
   "cell_type": "code",
   "execution_count": 80,
   "metadata": {},
   "outputs": [
    {
     "name": "stdout",
     "output_type": "stream",
     "text": [
      "tensor([3048624.,       0.,       0.,       0.,       0.])\n"
     ]
    }
   ],
   "source": [
    "test1 =  torch.zeros((5, 145, 145, 145))\n",
    "\n",
    "test1[:, m>0]=torch.tensor([1, 0, 0, 0, 0])[:, None].float()\n",
    "\n",
    "print(test1.sum((1,2,3)))\n"
   ]
  },
  {
   "cell_type": "code",
   "execution_count": 103,
   "metadata": {},
   "outputs": [],
   "source": [
    "def add_background_bias(\n",
    "    prediction: Tensor,\n",
    "    anomaly_score_map: Tensor,\n",
    "    background_class: Tensor,\n",
    "    threshold: float\n",
    "):\n",
    "    # Check inputs\n",
    "    assert prediction.shape[1:] == anomaly_score_map.shape\n",
    "    assert len(prediction.shape) == 4\n",
    "    assert len(background_class) == prediction.shape[0], f\"{background_class.shape} != {prediction.shape[0]}\"\n",
    "    assert threshold >= 0 and threshold <= 1\n",
    "\n",
    "    # Add background bias\n",
    "    prediction[:, anomaly_score_map>threshold] = background_class[:, None].float()\n",
    "\n",
    "    return prediction"
   ]
  },
  {
   "cell_type": "code",
   "execution_count": 102,
   "metadata": {},
   "outputs": [],
   "source": [
    "assert len(torch.tensor([1, 0, 0, 0, 0])) == p.shape[0]"
   ]
  },
  {
   "cell_type": "code",
   "execution_count": null,
   "metadata": {},
   "outputs": [],
   "source": []
  },
  {
   "cell_type": "code",
   "execution_count": 104,
   "metadata": {},
   "outputs": [],
   "source": [
    "test1 = add_background_bias(\n",
    "    prediction=p,\n",
    "    anomaly_score_map=m,\n",
    "    background_class=torch.tensor([1, 0, 0, 0, 0]),\n",
    "    threshold=threshold\n",
    ")"
   ]
  },
  {
   "cell_type": "code",
   "execution_count": 105,
   "metadata": {},
   "outputs": [
    {
     "data": {
      "text/plain": [
       "torch.Size([5, 145, 145, 145])"
      ]
     },
     "execution_count": 105,
     "metadata": {},
     "output_type": "execute_result"
    }
   ],
   "source": [
    "test1.shape"
   ]
  },
  {
   "cell_type": "code",
   "execution_count": null,
   "metadata": {},
   "outputs": [],
   "source": []
  },
  {
   "cell_type": "code",
   "execution_count": 69,
   "metadata": {},
   "outputs": [
    {
     "name": "stdout",
     "output_type": "stream",
     "text": [
      "[{tensor(0.4095): 0.3944535553455353, tensor(1.): 0.3726629614830017, tensor(0.9000): 0.37271517515182495, tensor(0.8000): 0.3731178641319275, tensor(0.7000): 0.3753123879432678, tensor(0.6000): 0.38012558221817017, tensor(0.5000): 0.38876014947891235, tensor(0.4000): 0.3873956501483917, tensor(0.3000): 0.3732820749282837}, {tensor(0.4149): 0.4549497365951538, tensor(1.): 0.4484848976135254, tensor(0.9000): 0.44847333431243896, tensor(0.8000): 0.4484490752220154, tensor(0.7000): 0.4494779109954834, tensor(0.6000): 0.4515193700790405, tensor(0.5000): 0.4543335437774658, tensor(0.4000): 0.44592177867889404, tensor(0.3000): 0.4327937364578247}, {tensor(0.4075): 0.4755173921585083, tensor(1.): 0.4694962501525879, tensor(0.9000): 0.46948879957199097, tensor(0.8000): 0.4694489538669586, tensor(0.7000): 0.46969401836395264, tensor(0.6000): 0.4702504277229309, tensor(0.5000): 0.47115305066108704, tensor(0.4000): 0.4661269187927246, tensor(0.3000): 0.4590275287628174}, {tensor(0.4184): 0.4901301860809326, tensor(1.): 0.4860767722129822, tensor(0.9000): 0.486066997051239, tensor(0.8000): 0.4860890507698059, tensor(0.7000): 0.48633521795272827, tensor(0.6000): 0.4872298836708069, tensor(0.5000): 0.4890064001083374, tensor(0.4000): 0.47957682609558105, tensor(0.3000): 0.4756249785423279}]\n"
     ]
    }
   ],
   "source": [
    "# p = preds['before'][0].clone().flatten(1)\n",
    "# m = raw_nmaps[0].clone().flatten()\n",
    "# dicts = []\n",
    "# threshold = thresholds[0]\n",
    "\n",
    "def f1(\n",
    "    pred, \n",
    "    gt,\n",
    "    cfg\n",
    "):\n",
    "    # Constant for numerical stability\n",
    "    eps = 1e-5\n",
    "    # statictics for precision, recall and Dice (f1)\n",
    "    TP       = (pred * gt).sum(axis=0)\n",
    "    TPplusFP = pred.sum(axis=0)\n",
    "    TPplusFN = gt.sum(axis=0)\n",
    "\n",
    "    precision = (TP + eps) / (TPplusFP + eps)\n",
    "    recall    = (TP + eps) / (TPplusFN + eps)\n",
    "    f1        = (2 * precision * recall + eps) / ( precision + recall  + eps)\n",
    "    \n",
    "    labels = cfg['data'][\"labels\"]\n",
    "    scores = {}\n",
    "    for c in range(len(labels)):\n",
    "        scores[f\"{labels[c]}_precision\"] = precision[c].numpy()\n",
    "        scores[f\"{labels[c]}_recall\"] = recall[c].numpy()\n",
    "        scores[f\"{labels[c]}_f1\"] = f1[c].numpy()\n",
    "\n",
    "    scores[\"Avg_prec_tracts\"] = precision[1:].mean().numpy()\n",
    "    scores[\"Avg_recall_tracts\"] = recall[1:].mean().numpy()\n",
    "    scores[\"Avg_f1_tracts\"] = f1[1:].mean().numpy()\n",
    "\n",
    "    return f1\n",
    "\n",
    "\n",
    "original_f1 = [0.37193363084047804, 0.46406966608597766, 0.5141518150203289, 0.5422143511977355]\n",
    "dicts = [{} for _ in range(4)]\n",
    "\n",
    "\n",
    "for m, threshold, pre, dct in zip(raw_nmaps, thresholds, preds['before'], dicts):\n",
    "    m = m.clone().flatten()\n",
    "\n",
    "    p = pre.clone().flatten(1)\n",
    "    p[:, m>threshold] = torch.tensor([1, 0, 0, 0, 0])[:, None].float()\n",
    "\n",
    "    dice = f1(p[1:].T, gt[1:].flatten(1).T)\n",
    "    dct[threshold.data] = dice.mean().item()\n",
    "\n",
    "    \n",
    "    for t in torch.linspace(1, 0.3, 8):\n",
    "        p = pre.clone().flatten(1)\n",
    "        p[:, m>t] = torch.tensor([1, 0, 0, 0, 0])[:, None].float()\n",
    "\n",
    "        dice = f1(p[1:].T, gt[1:].flatten(1).T)\n",
    "\n",
    "        dct[t.data] = dice.mean().item()\n",
    "        \n",
    "print(dicts)\n"
   ]
  },
  {
   "cell_type": "code",
   "execution_count": 71,
   "metadata": {},
   "outputs": [
    {
     "data": {
      "image/png": "[encoded data removed]",
      "text/plain": [
       "<Figure size 1000x600 with 1 Axes>"
      ]
     },
     "metadata": {},
     "output_type": "display_data"
    }
   ],
   "source": [
    "import matplotlib.pyplot as plt\n",
    "import numpy as np\n",
    "\n",
    "# Your list of dictionaries\n",
    "# data = [\n",
    "#     {0.3921: 0.4011942744255066, 1.0: 0.3717939555644989, 0.9: 0.3718118369579315, 0.8: 0.3722378611564636, 0.7: 0.37473005056381226, 0.6: 0.3818221092224121, 0.5: 0.3916214108467102, 0.4: 0.40098118782043457, 0.3: 0.38709312677383423, 0.2: 0.3423919677734375, 0.1: 0.1983565092086792, 0.0: 1.0003594070440158e-05}, \n",
    "#     {0.4167: 0.47976967692375183, 1.0: 0.4639327824115753, 0.9: 0.4639240801334381, 0.8: 0.46390169858932495, 0.7: 0.4647374451160431, 0.6: 0.4673839807510376, 0.5: 0.47626960277557373, 0.4: 0.46467962861061096, 0.3: 0.45717281103134155, 0.2: 0.40694767236709595, 0.1: 0.22398771345615387, 0.0: 1.0003594070440158e-05}, \n",
    "#     {0.4309: 0.5178563594818115, 1.0: 0.5139825940132141, 0.9: 0.5139766931533813, 0.8: 0.5139925479888916, 0.7: 0.5144129395484924, 0.6: 0.5153756141662598, 0.5: 0.5171371698379517, 0.4: 0.5005598664283752, 0.3: 0.4891539514064789, 0.2: 0.4415915012359619, 0.1: 0.26971158385276794, 0.0: 1.2647559742617887e-05}, \n",
    "#     {0.4052: 0.5440102815628052, 1.0: 0.5420596599578857, 0.9: 0.5420498251914978, 0.8: 0.5419927835464478, 0.7: 0.5421596765518188, 0.6: 0.5427266955375671, 0.5: 0.5426525473594666, 0.4: 0.522631824016571, 0.3: 0.5109505653381348, 0.2: 0.46384096145629883, 0.1: 0.2954111397266388, 0.0: 0.12500780820846558}\n",
    "# ]\n",
    "\n",
    "data = dicts\n",
    "\n",
    "# Prepare the figure\n",
    "plt.figure(figsize=(10, 6))\n",
    "\n",
    "# Iterate over each dictionary in the list\n",
    "for idx, d in enumerate(data):\n",
    "    keys = list(d.keys())\n",
    "    values = list(d.values())\n",
    "    \n",
    "    # Sort by key values to ensure gradient is applied correctly\n",
    "    # sorted_keys = sorted(keys)\n",
    "    # sorted_values = [d[k] for k in sorted_keys]\n",
    "    \n",
    "    # Prepare colors\n",
    "    colors = ['red', 'black'] + [plt.cm.Blues(0.2 + 0.8 * (k / max(keys))) for k in keys[2:]]\n",
    "\n",
    "    # Plot each value\n",
    "    for k, v, color in zip(keys, values, colors):\n",
    "        if color == 'red':\n",
    "            if idx == 0:\n",
    "                plt.plot(idx, v, 'x', color=color,  markersize=10, label=f'T given')\n",
    "            else:\n",
    "                plt.plot(idx, v, 'x', color=color,  markersize=10)\n",
    "        elif color == 'black':\n",
    "            if idx == 0:\n",
    "                plt.plot(idx, v, 'x', color=color,  markersize=10, label='No Bias')\n",
    "            else:\n",
    "                plt.plot(idx, v, 'x', color=color,  markersize=10)\n",
    "        else:\n",
    "            if idx == 0:\n",
    "                plt.plot(idx, v, '_', color=color, markersize=20, label=f'T: {k:.1f}')\n",
    "            else:\n",
    "                plt.plot(idx, v, '_', color=color, markersize=20)\n",
    "\n",
    "# Set labels and title\n",
    "plt.xlabel('Annotation Iteration')\n",
    "plt.ylabel('DSC')\n",
    "plt.title('Introducing Background Bias via Anomaly Detection in Foreground Classes')\n",
    "plt.legend()\n",
    "\n",
    "# Show the plot\n",
    "plt.savefig('../../results/background_bias.png', )\n"
   ]
  },
  {
   "cell_type": "code",
   "execution_count": null,
   "metadata": {},
   "outputs": [],
   "source": []
  },
  {
   "cell_type": "code",
   "execution_count": null,
   "metadata": {},
   "outputs": [],
   "source": []
  },
  {
   "cell_type": "code",
   "execution_count": 16,
   "metadata": {},
   "outputs": [
    {
     "name": "stderr",
     "output_type": "stream",
     "text": [
      "/tmp/ipykernel_1944325/3489226232.py:31: FutureWarning: \n",
      "\n",
      "Passing `palette` without assigning `hue` is deprecated and will be removed in v0.14.0. Assign the `x` variable to `hue` and set `legend=False` for the same effect.\n",
      "\n",
      "  sns.violinplot(x='index', y='value', data=df, inner=None, palette=colors)\n",
      "/tmp/ipykernel_1944325/3489226232.py:31: UserWarning: The palette list has more values (48) than needed (4), which may not be intended.\n",
      "  sns.violinplot(x='index', y='value', data=df, inner=None, palette=colors)\n"
     ]
    },
    {
     "data": {
      "image/png": "[encoded data removed]",
      "text/plain": [
       "<Figure size 1200x600 with 1 Axes>"
      ]
     },
     "metadata": {},
     "output_type": "display_data"
    }
   ],
   "source": [
    "import matplotlib.pyplot as plt\n",
    "import seaborn as sns\n",
    "import pandas as pd\n",
    "\n",
    "# Your list of dictionaries\n",
    "data = [\n",
    "    {0.3921: 0.4011942744255066, 1.0: 0.3717939555644989, 0.9: 0.3718118369579315, 0.8: 0.3722378611564636, 0.7: 0.37473005056381226, 0.6: 0.3818221092224121, 0.5: 0.3916214108467102, 0.4: 0.40098118782043457, 0.3: 0.38709312677383423, 0.2: 0.3423919677734375, 0.1: 0.1983565092086792, 0.0: 1.0003594070440158e-05}, \n",
    "    {0.4167: 0.47976967692375183, 1.0: 0.4639327824115753, 0.9: 0.4639240801334381, 0.8: 0.46390169858932495, 0.7: 0.4647374451160431, 0.6: 0.4673839807510376, 0.5: 0.47626960277557373, 0.4: 0.46467962861061096, 0.3: 0.45717281103134155, 0.2: 0.40694767236709595, 0.1: 0.22398771345615387, 0.0: 1.0003594070440158e-05}, \n",
    "    {0.4309: 0.5178563594818115, 1.0: 0.5139825940132141, 0.9: 0.5139766931533813, 0.8: 0.5139925479888916, 0.7: 0.5144129395484924, 0.6: 0.5153756141662598, 0.5: 0.5171371698379517, 0.4: 0.5005598664283752, 0.3: 0.4891539514064789, 0.2: 0.4415915012359619, 0.1: 0.26971158385276794, 0.0: 1.2647559742617887e-05}, \n",
    "    {0.4052: 0.5440102815628052, 1.0: 0.5420596599578857, 0.9: 0.5420498251914978, 0.8: 0.5419927835464478, 0.7: 0.5421596765518188, 0.6: 0.5427266955375671, 0.5: 0.5426525473594666, 0.4: 0.522631824016571, 0.3: 0.5109505653381348, 0.2: 0.46384096145629883, 0.1: 0.2954111397266388, 0.0: 0.12500780820846558}\n",
    "]\n",
    "\n",
    "# Prepare data for plotting\n",
    "plot_data = []\n",
    "colors = []\n",
    "for idx, d in enumerate(data):\n",
    "    for i, (k, v) in enumerate(d.items()):\n",
    "        plot_data.append({'index': idx, 'value': v})\n",
    "        if i == 0:\n",
    "            colors.append('red')\n",
    "        elif i == 1:\n",
    "            colors.append('black')\n",
    "        else:\n",
    "            colors.append(plt.cm.Blues(0.2 + 0.8 * k))\n",
    "\n",
    "# Convert to DataFrame\n",
    "df = pd.DataFrame(plot_data)\n",
    "\n",
    "# Plot using seaborn\n",
    "plt.figure(figsize=(12, 6))\n",
    "sns.violinplot(x='index', y='value', data=df, inner=None, palette=colors)\n",
    "sns.swarmplot(x='index', y='value', data=df, color='k', alpha=0.6)  # Add a swarm plot to show individual points\n",
    "\n",
    "plt.xlabel('Dictionary Index')\n",
    "plt.ylabel('Values')\n",
    "plt.title('Violin Plot of Values from Each Dictionary with Custom Coloring')\n",
    "\n",
    "plt.show()\n"
   ]
  },
  {
   "cell_type": "code",
   "execution_count": 105,
   "metadata": {},
   "outputs": [
    {
     "data": {
      "text/plain": [
       "[{tensor(1.): 0.5010831356048584},\n",
       " {tensor(0.9000): 0.5010792016983032},\n",
       " {tensor(0.8000): 0.5012274980545044},\n",
       " {tensor(0.7000): 0.5014948844909668},\n",
       " {tensor(0.6000): 0.5017366409301758},\n",
       " {tensor(0.5000): 0.5029430389404297},\n",
       " {tensor(0.4000): 0.502671480178833},\n",
       " {tensor(0.3000): 0.4739152193069458},\n",
       " {tensor(0.2000): 0.4253828525543213},\n",
       " {tensor(0.1000): 0.2620338499546051},\n",
       " {tensor(0.): 0.12500938773155212},\n",
       " {tensor(0.3788): 0.5013114213943481}]"
      ]
     },
     "execution_count": 105,
     "metadata": {},
     "output_type": "execute_result"
    }
   ],
   "source": [
    "0.50120857 \n",
    "0.52803354\n",
    "0.54399739\n",
    "0.55581491\n",
    "0.56501592"
   ]
  },
  {
   "cell_type": "code",
   "execution_count": 80,
   "metadata": {},
   "outputs": [
    {
     "data": {
      "text/plain": [
       "tensor(36)"
      ]
     },
     "execution_count": 80,
     "metadata": {},
     "output_type": "execute_result"
    }
   ],
   "source": [
    "(m>t).sum()"
   ]
  },
  {
   "cell_type": "code",
   "execution_count": 85,
   "metadata": {},
   "outputs": [
    {
     "data": {
      "text/plain": [
       "torch.Size([1, 5])"
      ]
     },
     "execution_count": 85,
     "metadata": {},
     "output_type": "execute_result"
    }
   ],
   "source": [
    "torch.tensor([[1, 0, 0, 0, 0]]).shape"
   ]
  },
  {
   "cell_type": "code",
   "execution_count": 23,
   "metadata": {},
   "outputs": [
    {
     "data": {
      "text/plain": [
       "(array([5.0000e+00, 4.0000e+00, 6.0000e+00, 6.0000e+00, 3.8000e+01,\n",
       "        5.8000e+01, 6.4000e+01, 1.0500e+02, 1.0800e+02, 1.5100e+02,\n",
       "        1.6200e+02, 1.8700e+02, 2.1300e+02, 2.8900e+02, 3.6000e+02,\n",
       "        4.9300e+02, 5.1100e+02, 5.3800e+02, 5.6900e+02, 6.9500e+02,\n",
       "        8.0600e+02, 9.1400e+02, 9.7300e+02, 1.0940e+03, 1.2950e+03,\n",
       "        1.3590e+03, 1.4830e+03, 1.7150e+03, 1.9300e+03, 2.0100e+03,\n",
       "        2.1850e+03, 2.4170e+03, 2.6850e+03, 2.8270e+03, 3.0420e+03,\n",
       "        3.1160e+03, 3.4140e+03, 3.6170e+03, 3.5930e+03, 3.9750e+03,\n",
       "        4.1000e+03, 4.5510e+03, 4.8190e+03, 5.0890e+03, 5.3150e+03,\n",
       "        5.4060e+03, 5.6680e+03, 5.8320e+03, 6.1640e+03, 6.3610e+03,\n",
       "        6.5830e+03, 6.7430e+03, 6.9890e+03, 7.2760e+03, 7.4320e+03,\n",
       "        7.9800e+03, 8.0780e+03, 8.5380e+03, 8.9290e+03, 9.3310e+03,\n",
       "        9.5170e+03, 1.0090e+04, 1.0352e+04, 1.0655e+04, 1.0910e+04,\n",
       "        1.1300e+04, 1.1785e+04, 1.2125e+04, 1.2457e+04, 1.2712e+04,\n",
       "        1.3210e+04, 1.3688e+04, 1.4574e+04, 1.5196e+04, 1.5778e+04,\n",
       "        1.6752e+04, 1.7558e+04, 1.8378e+04, 1.9270e+04, 2.0489e+04,\n",
       "        2.1628e+04, 2.2691e+04, 2.3363e+04, 2.4498e+04, 2.5257e+04,\n",
       "        2.5731e+04, 2.6172e+04, 2.7307e+04, 2.7242e+04, 2.7158e+04,\n",
       "        2.6136e+04, 2.4792e+04, 2.2054e+04, 1.8522e+04, 1.5275e+04,\n",
       "        1.1527e+04, 7.9630e+03, 4.0810e+03, 1.1760e+03, 7.8000e+01]),\n",
       " array([-0.22224365, -0.21843368, -0.2146237 , -0.21081375, -0.20700377,\n",
       "        -0.2031938 , -0.19938383, -0.19557385, -0.19176388, -0.18795392,\n",
       "        -0.18414395, -0.18033397, -0.176524  , -0.17271402, -0.16890405,\n",
       "        -0.16509409, -0.16128412, -0.15747415, -0.15366417, -0.1498542 ,\n",
       "        -0.14604422, -0.14223427, -0.13842429, -0.13461432, -0.13080435,\n",
       "        -0.12699437, -0.12318441, -0.11937443, -0.11556447, -0.11175449,\n",
       "        -0.10794452, -0.10413455, -0.10032458, -0.0965146 , -0.09270464,\n",
       "        -0.08889467, -0.08508469, -0.08127473, -0.07746475, -0.07365478,\n",
       "        -0.06984481, -0.06603484, -0.06222487, -0.0584149 , -0.05460493,\n",
       "        -0.05079496, -0.04698498, -0.04317501, -0.03936504, -0.03555507,\n",
       "        -0.0317451 , -0.02793513, -0.02412516, -0.02031519, -0.01650521,\n",
       "        -0.01269524, -0.00888527, -0.0050753 , -0.00126533,  0.00254464,\n",
       "         0.00635461,  0.01016458,  0.01397455,  0.01778452,  0.0215945 ,\n",
       "         0.02540447,  0.02921444,  0.03302441,  0.03683438,  0.04064435,\n",
       "         0.04445432,  0.04826429,  0.05207426,  0.05588423,  0.05969421,\n",
       "         0.06350417,  0.06731415,  0.07112412,  0.07493409,  0.07874406,\n",
       "         0.08255403,  0.086364  ,  0.09017397,  0.09398395,  0.09779391,\n",
       "         0.10160389,  0.10541386,  0.10922383,  0.1130338 ,  0.11684377,\n",
       "         0.12065374,  0.12446371,  0.12827368,  0.13208365,  0.13589363,\n",
       "         0.1397036 ,  0.14351358,  0.14732355,  0.15113351,  0.15494348,\n",
       "         0.15875345]),\n",
       " <BarContainer object of 100 artists>)"
      ]
     },
     "execution_count": 23,
     "metadata": {},
     "output_type": "execute_result"
    },
    {
     "data": {
      "image/png": "[encoded data removed]",
      "text/plain": [
       "<Figure size 640x480 with 1 Axes>"
      ]
     },
     "metadata": {},
     "output_type": "display_data"
    }
   ],
   "source": [
    "plt.hist(raw_nmaps[0].flatten(), bins=100)"
   ]
  },
  {
   "cell_type": "code",
   "execution_count": null,
   "metadata": {},
   "outputs": [],
   "source": []
  },
  {
   "cell_type": "code",
   "execution_count": null,
   "metadata": {},
   "outputs": [],
   "source": []
  },
  {
   "cell_type": "code",
   "execution_count": null,
   "metadata": {},
   "outputs": [],
   "source": []
  }
 ],
 "metadata": {
  "kernelspec": {
   "display_name": "Python 3",
   "language": "python",
   "name": "python3"
  },
  "language_info": {
   "codemirror_mode": {
    "name": "ipython",
    "version": 3
   },
   "file_extension": ".py",
   "mimetype": "text/x-python",
   "name": "python",
   "nbconvert_exporter": "python",
   "pygments_lexer": "ipython3",
   "version": "3.10.12"
  }
 },
 "nbformat": 4,
 "nbformat_minor": 2
}
