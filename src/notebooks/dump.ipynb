{
 "cells": [
  {
   "cell_type": "code",
   "execution_count": 1,
   "metadata": {},
   "outputs": [
    {
     "name": "stdout",
     "output_type": "stream",
     "text": [
      "     Other_f1       CG_f1      CST_f1       FX_f1       CC_f1 Avg_f1_tracts\n",
      "0  0.59332389  0.38304471  0.48329909   0.0965601  0.52483062    0.37193363\n",
      "1   0.5253225  0.42478511  0.45821704  0.12312999   0.5945757    0.40017696\n",
      "2  0.59367288  0.45554615  0.46559564  0.12153414  0.62808936    0.41769132\n",
      "3  0.68486683  0.45135836  0.53569668  0.14371698   0.6304705    0.44031063\n",
      "4  0.68378051   0.4507904  0.52148243  0.16292936  0.61525732    0.43761488\n",
      "5   0.7316338  0.47134193  0.54015268  0.17057229  0.64041328    0.45562004\n"
     ]
    }
   ],
   "source": [
    "import pandas as pd\n",
    "import numpy as np\n",
    "\n",
    "# List of dictionaries as provided\n",
    "data_list = [\n",
    "    {'Other_precision': np.array(0.92834663, dtype=np.float32), 'Other_recall': np.array(0.43598189), 'Other_f1': np.array(0.59332389), 'CG_precision': np.array(0.2743255, dtype=np.float32), 'CG_recall': np.array(0.63447333), 'CG_f1': np.array(0.38304471), 'CST_precision': np.array(0.44778952, dtype=np.float32), 'CST_recall': np.array(0.52491298), 'CST_f1': np.array(0.48329909), 'FX_precision': np.array(0.05466991, dtype=np.float32), 'FX_recall': np.array(0.41236413), 'FX_f1': np.array(0.0965601), 'CC_precision': np.array(0.4051588, dtype=np.float32), 'CC_recall': np.array(0.74481508), 'CC_f1': np.array(0.52483062), 'Avg_prec_tracts': np.array(0.29548594, dtype=np.float32), 'Avg_recall_tracts': np.array(0.57914138), 'Avg_f1_tracts': np.array(0.37193363)},\n",
    "    {'Other_precision': np.array(0.9531997, dtype=np.float32), 'Other_recall': np.array(0.36256671), 'Other_f1': np.array(0.5253225), 'CG_precision': np.array(0.2987855, dtype=np.float32), 'CG_recall': np.array(0.73451523), 'CG_f1': np.array(0.42478511), 'CST_precision': np.array(0.36747447, dtype=np.float32), 'CST_recall': np.array(0.60845043), 'CST_f1': np.array(0.45821704), 'FX_precision': np.array(0.07252694, dtype=np.float32), 'FX_recall': np.array(0.40692935), 'FX_f1': np.array(0.12312999), 'CC_precision': np.array(0.4687012, dtype=np.float32), 'CC_recall': np.array(0.81287215), 'CC_f1': np.array(0.5945757), 'Avg_prec_tracts': np.array(0.30187204, dtype=np.float32), 'Avg_recall_tracts': np.array(0.64069179), 'Avg_f1_tracts': np.array(0.40017696)},\n",
    "    {'Other_precision': np.array(0.9560398, dtype=np.float32), 'Other_recall': np.array(0.43049753), 'Other_f1': np.array(0.59367288), 'CG_precision': np.array(0.33722568, dtype=np.float32), 'CG_recall': np.array(0.70174858), 'CG_f1': np.array(0.45554615), 'CST_precision': np.array(0.37146753, dtype=np.float32), 'CST_recall': np.array(0.62359804), 'CST_f1': np.array(0.46559564), 'FX_precision': np.array(0.07127735, dtype=np.float32), 'FX_recall': np.array(0.41168478), 'FX_f1': np.array(0.12153414), 'CC_precision': np.array(0.52164745, dtype=np.float32), 'CC_recall': np.array(0.78909712), 'CC_f1': np.array(0.62808936), 'Avg_prec_tracts': np.array(0.3254045, dtype=np.float32), 'Avg_recall_tracts': np.array(0.63153213), 'Avg_f1_tracts': np.array(0.41769132)},\n",
    "    {'Other_precision': np.array(0.9532457, dtype=np.float32), 'Other_recall': np.array(0.53440576), 'Other_f1': np.array(0.68486683), 'CG_precision': np.array(0.33099738, dtype=np.float32), 'CG_recall': np.array(0.70924566), 'CG_f1': np.array(0.45135836), 'CST_precision': np.array(0.48961946, dtype=np.float32), 'CST_recall': np.array(0.59133686), 'CST_f1': np.array(0.53569668), 'FX_precision': np.array(0.087319, dtype=np.float32), 'FX_recall': np.array(0.40557065), 'FX_f1': np.array(0.14371698), 'CC_precision': np.array(0.52524537, dtype=np.float32), 'CC_recall': np.array(0.78840967), 'CC_f1': np.array(0.6304705), 'Avg_prec_tracts': np.array(0.35829532, dtype=np.float32), 'Avg_recall_tracts': np.array(0.62364071), 'Avg_f1_tracts': np.array(0.44031063)},\n",
    "    {'Other_precision': np.array(0.9303748, dtype=np.float32), 'Other_recall': np.array(0.54051462), 'Other_f1': np.array(0.68378051), 'CG_precision': np.array(0.3314111, dtype=np.float32), 'CG_recall': np.array(0.70457101), 'CG_f1': np.array(0.4507904), 'CST_precision': np.array(0.47249123, dtype=np.float32), 'CST_recall': np.array(0.58179709), 'CST_f1': np.array(0.52148243), 'FX_precision': np.array(0.10163217, dtype=np.float32), 'FX_recall': np.array(0.41032608), 'FX_f1': np.array(0.16292936), 'CC_precision': np.array(0.53085524, dtype=np.float32), 'CC_recall': np.array(0.73156325), 'CC_f1': np.array(0.61525732), 'Avg_prec_tracts': np.array(0.35909742, dtype=np.float32), 'Avg_recall_tracts': np.array(0.60706436), 'Avg_f1_tracts': np.array(0.43761488)},\n",
    "    {'Other_precision': np.array(0.9199442, dtype=np.float32), 'Other_recall': np.array(0.60731494), 'Other_f1': np.array(0.7316338), 'CG_precision': np.array(0.36632925, dtype=np.float32), 'CG_recall': np.array(0.66073515), 'CG_f1': np.array(0.47134193), 'CST_precision': np.array(0.51426405, dtype=np.float32), 'CST_recall': np.array(0.56877659), 'CST_f1': np.array(0.54015268), 'FX_precision': np.array(0.10822669, dtype=np.float32), 'FX_recall': np.array(0.40217391), 'FX_f1': np.array(0.17057229), 'CC_precision': np.array(0.5964444, dtype=np.float32), 'CC_recall': np.array(0.69137415), 'CC_f1': np.array(0.64041328), 'Avg_prec_tracts': np.array(0.3963161, dtype=np.float32), 'Avg_recall_tracts': np.array(0.58076495), 'Avg_f1_tracts': np.array(0.45562004)}\n",
    "]\n",
    "\n",
    "# Extract 'f1' values and create a DataFrame\n",
    "f1_data = [{k: v for k, v in d.items() if 'f1' in k} for d in data_list]\n",
    "df = pd.DataFrame(f1_data)\n",
    "\n",
    "# Display the DataFrame\n",
    "print(df)\n"
   ]
  },
  {
   "cell_type": "code",
   "execution_count": 8,
   "metadata": {},
   "outputs": [
    {
     "name": "stdout",
     "output_type": "stream",
     "text": [
      "|    |   Other_f1 |    CG_f1 |   CST_f1 |     FX_f1 |    CC_f1 |   Avg_f1_tracts |\n",
      "|---:|-----------:|---------:|---------:|----------:|---------:|----------------:|\n",
      "|  0 |   0.593324 | 0.383045 | 0.483299 | 0.0965601 | 0.524831 |        0.371934 |\n",
      "|  1 |   0.728616 | 0.550178 | 0.538344 | 0.154646  | 0.689218 |        0.483097 |\n",
      "|  2 |   0.818297 | 0.579636 | 0.593461 | 0.173627  | 0.710734 |        0.514365 |\n",
      "|  3 |   0.845713 | 0.605558 | 0.601472 | 0.225496  | 0.743617 |        0.544036 |\n",
      "|  4 |   0.853255 | 0.59422  | 0.592025 | 0.283018  | 0.761434 |        0.557674 |\n",
      "|  5 |   0.858409 | 0.596545 | 0.587299 | 0.341862  | 0.755368 |        0.570268 |\n"
     ]
    }
   ],
   "source": [
    "import pandas as pd\n",
    "import numpy as np\n",
    "\n",
    "# List of dictionaries as provided\n",
    "data_list = [\n",
    "    {'Other_precision': np.array(0.92834663, dtype=np.float32), 'Other_recall': np.array(0.43598189), 'Other_f1': np.array(0.59332389), 'CG_precision': np.array(0.2743255, dtype=np.float32), 'CG_recall': np.array(0.63447333), 'CG_f1': np.array(0.38304471), 'CST_precision': np.array(0.44778952, dtype=np.float32), 'CST_recall': np.array(0.52491298), 'CST_f1': np.array(0.48329909), 'FX_precision': np.array(0.05466991, dtype=np.float32), 'FX_recall': np.array(0.41236413), 'FX_f1': np.array(0.0965601), 'CC_precision': np.array(0.4051588, dtype=np.float32), 'CC_recall': np.array(0.74481508), 'CC_f1': np.array(0.52483062), 'Avg_prec_tracts': np.array(0.29548594, dtype=np.float32), 'Avg_recall_tracts': np.array(0.57914138), 'Avg_f1_tracts': np.array(0.37193363)},\n",
    "    {'Other_precision': np.array(0.9574399, dtype=np.float32), 'Other_recall': np.array(0.58806763), 'Other_f1': np.array(0.72861602), 'CG_precision': np.array(0.4390119, dtype=np.float32), 'CG_recall': np.array(0.73672025), 'CG_f1': np.array(0.55017838), 'CST_precision': np.array(0.5014742, dtype=np.float32), 'CST_recall': np.array(0.58105582), 'CST_f1': np.array(0.53834408), 'FX_precision': np.array(0.0941333, dtype=np.float32), 'FX_recall': np.array(0.43274456), 'FX_f1': np.array(0.15464646), 'CC_precision': np.array(0.6102079, dtype=np.float32), 'CC_recall': np.array(0.79172528), 'CC_f1': np.array(0.6892177), 'Avg_prec_tracts': np.array(0.4112068, dtype=np.float32), 'Avg_recall_tracts': np.array(0.63556148), 'Avg_f1_tracts': np.array(0.48309665)},\n",
    "    {'Other_precision': np.array(0.9530738, dtype=np.float32), 'Other_recall': np.array(0.71691409), 'Other_f1': np.array(0.81829689), 'CG_precision': np.array(0.47050494, dtype=np.float32), 'CG_recall': np.array(0.75466914), 'CG_f1': np.array(0.57963626), 'CST_precision': np.array(0.57822484, dtype=np.float32), 'CST_recall': np.array(0.60951399), 'CST_f1': np.array(0.5934607), 'FX_precision': np.array(0.11029412, dtype=np.float32), 'FX_recall': np.array(0.40760869), 'FX_f1': np.array(0.17362707), 'CC_precision': np.array(0.62455386, dtype=np.float32), 'CC_recall': np.array(0.82450054), 'CC_f1': np.array(0.71073445), 'Avg_prec_tracts': np.array(0.44589442, dtype=np.float32), 'Avg_recall_tracts': np.array(0.64907309), 'Avg_f1_tracts': np.array(0.51436462)},\n",
    "    {'Other_precision': np.array(0.9513961, dtype=np.float32), 'Other_recall': np.array(0.76116047), 'Other_f1': np.array(0.84571324), 'CG_precision': np.array(0.5136937, dtype=np.float32), 'CG_recall': np.array(0.73742586), 'CG_f1': np.array(0.60555841), 'CST_precision': np.array(0.5632226, dtype=np.float32), 'CST_recall': np.array(0.64528813), 'CST_f1': np.array(0.60147227), 'FX_precision': np.array(0.14942528, dtype=np.float32), 'FX_recall': np.array(0.45923913), 'FX_f1': np.array(0.22549638), 'CC_precision': np.array(0.68256915, dtype=np.float32), 'CC_recall': np.array(0.81665309), 'CC_f1': np.array(0.74361689), 'Avg_prec_tracts': np.array(0.47722766, dtype=np.float32), 'Avg_recall_tracts': np.array(0.66465155), 'Avg_f1_tracts': np.array(0.54403599)},\n",
    "    {'Other_precision': np.array(0.9532388, dtype=np.float32), 'Other_recall': np.array(0.7722525), 'Other_f1': np.array(0.85325469), 'CG_precision': np.array(0.516661, dtype=np.float32), 'CG_recall': np.array(0.69916871), 'CG_f1': np.array(0.5942201), 'CST_precision': np.array(0.5027689, dtype=np.float32), 'CST_recall': np.array(0.71980147), 'CST_f1': np.array(0.59202453), 'FX_precision': np.array(0.19944367, dtype=np.float32), 'FX_recall': np.array(0.48709239), 'FX_f1': np.array(0.28301814), 'CC_precision': np.array(0.71395904, dtype=np.float32), 'CC_recall': np.array(0.81566952), 'CC_f1': np.array(0.76143429), 'Avg_prec_tracts': np.array(0.48320818, dtype=np.float32), 'Avg_recall_tracts': np.array(0.68043302), 'Avg_f1_tracts': np.array(0.55767426)},\n",
    "    {'Other_precision': np.array(0.9506348, dtype=np.float32), 'Other_recall': np.array(0.78249424), 'Other_f1': np.array(0.8584092), 'CG_precision': np.array(0.527668, dtype=np.float32), 'CG_recall': np.array(0.68609292), 'CG_f1': np.array(0.59654466), 'CST_precision': np.array(0.48029333, dtype=np.float32), 'CST_recall': np.array(0.75564007), 'CST_f1': np.array(0.58729856), 'FX_precision': np.array(0.25738832, dtype=np.float32), 'FX_recall': np.array(0.50883152), 'FX_f1': np.array(0.34186163), 'CC_precision': np.array(0.7048952, dtype=np.float32), 'CC_recall': np.array(0.81362305), 'CC_f1': np.array(0.75536821), 'Avg_prec_tracts': np.array(0.49256122, dtype=np.float32), 'Avg_recall_tracts': np.array(0.69104689), 'Avg_f1_tracts': np.array(0.57026826)}\n",
    "]\n",
    "\n",
    "# Extract 'f1' values and create a DataFrame\n",
    "f1_data = [{k: v for k, v in d.items() if 'f1' in k} for d in data_list]\n",
    "df = pd.DataFrame(f1_data)\n",
    "\n",
    "# Display the DataFrame\n",
    "print(df.to_markdown())\n"
   ]
  },
  {
   "cell_type": "code",
   "execution_count": 7,
   "metadata": {},
   "outputs": [
    {
     "name": "stdout",
     "output_type": "stream",
     "text": [
      "|    |   Other_f1 |    CG_f1 |   CST_f1 |     FX_f1 |    CC_f1 |   Avg_f1_tracts |\n",
      "|---:|-----------:|---------:|---------:|----------:|---------:|----------------:|\n",
      "|  0 |   0.593324 | 0.383045 | 0.483299 | 0.0965601 | 0.524831 |        0.371934 |\n",
      "|  1 |   0.687374 | 0.540345 | 0.52726  | 0.136543  | 0.700017 |        0.476041 |\n",
      "|  2 |   0.766804 | 0.521631 | 0.536125 | 0.207238  | 0.691339 |        0.489083 |\n",
      "|  3 |   0.805257 | 0.552001 | 0.559331 | 0.249131  | 0.72733  |        0.521948 |\n",
      "|  4 |   0.813095 | 0.580164 | 0.553079 | 0.285419  | 0.729373 |        0.537009 |\n",
      "|  5 |   0.829437 | 0.592108 | 0.586355 | 0.300721  | 0.753702 |        0.558221 |\n"
     ]
    }
   ],
   "source": [
    "import pandas as pd\n",
    "import numpy as np\n",
    "\n",
    "# List of dictionaries as provided\n",
    "data_list = [\n",
    "    {'Other_precision': np.array(0.92834663, dtype=np.float32), 'Other_recall': np.array(0.43598189), 'Other_f1': np.array(0.59332389), 'CG_precision': np.array(0.2743255, dtype=np.float32), 'CG_recall': np.array(0.63447333), 'CG_f1': np.array(0.38304471), 'CST_precision': np.array(0.44778952, dtype=np.float32), 'CST_recall': np.array(0.52491298), 'CST_f1': np.array(0.48329909), 'FX_precision': np.array(0.05466991, dtype=np.float32), 'FX_recall': np.array(0.41236413), 'FX_f1': np.array(0.0965601), 'CC_precision': np.array(0.4051588, dtype=np.float32), 'CC_recall': np.array(0.74481508), 'CC_f1': np.array(0.52483062), 'Avg_prec_tracts': np.array(0.29548594, dtype=np.float32), 'Avg_recall_tracts': np.array(0.57914138), 'Avg_f1_tracts': np.array(0.37193363)},\n",
    "    {'Other_precision': np.array(0.967227, dtype=np.float32), 'Other_recall': np.array(0.53311994), 'Other_f1': np.array(0.68737376), 'CG_precision': np.array(0.4182051, dtype=np.float32), 'CG_recall': np.array(0.76324668), 'CG_f1': np.array(0.5403453), 'CST_precision': np.array(0.46533018, dtype=np.float32), 'CST_recall': np.array(0.6081926), 'CST_f1': np.array(0.52725986), 'FX_precision': np.array(0.08121697, dtype=np.float32), 'FX_recall': np.array(0.42798913), 'FX_f1': np.array(0.13654313), 'CC_precision': np.array(0.61204386, dtype=np.float32), 'CC_recall': np.array(0.81752033), 'CC_f1': np.array(0.70001725), 'Avg_prec_tracts': np.array(0.394199, dtype=np.float32), 'Avg_recall_tracts': np.array(0.65423718), 'Avg_f1_tracts': np.array(0.47604139)},\n",
    "    {'Other_precision': np.array(0.9647892, dtype=np.float32), 'Other_recall': np.array(0.63623874), 'Other_f1': np.array(0.76680415), 'CG_precision': np.array(0.38591796, dtype=np.float32), 'CG_recall': np.array(0.80454676), 'CG_f1': np.array(0.52163064), 'CST_precision': np.array(0.4781851, dtype=np.float32), 'CST_recall': np.array(0.61002965), 'CST_f1': np.array(0.5361247), 'FX_precision': np.array(0.13807909, dtype=np.float32), 'FX_recall': np.array(0.41508152), 'FX_f1': np.array(0.20723834), 'CC_precision': np.array(0.5763912, dtype=np.float32), 'CC_recall': np.array(0.86354743), 'CC_f1': np.array(0.69133876), 'Avg_prec_tracts': np.array(0.39464334, dtype=np.float32), 'Avg_recall_tracts': np.array(0.67330134), 'Avg_f1_tracts': np.array(0.48908311)},\n",
    "    {'Other_precision': np.array(0.9588439, dtype=np.float32), 'Other_recall': np.array(0.69407833), 'Other_f1': np.array(0.80525718), 'CG_precision': np.array(0.42295274, dtype=np.float32), 'CG_recall': np.array(0.79435955), 'CG_f1': np.array(0.55200098), 'CST_precision': np.array(0.47394934, dtype=np.float32), 'CST_recall': np.array(0.68222251), 'CST_f1': np.array(0.55933054), 'FX_precision': np.array(0.17501377, dtype=np.float32), 'FX_recall': np.array(0.43206521), 'FX_f1': np.array(0.24913106), 'CC_precision': np.array(0.6398333, dtype=np.float32), 'CC_recall': np.array(0.84254334), 'CC_f1': np.array(0.72733018), 'Avg_prec_tracts': np.array(0.42793727, dtype=np.float32), 'Avg_recall_tracts': np.array(0.68779765), 'Avg_f1_tracts': np.array(0.52194819)},\n",
    "    {'Other_precision': np.array(0.95336664, dtype=np.float32), 'Other_recall': np.array(0.70880524), 'Other_f1': np.array(0.81309546), 'CG_precision': np.array(0.47655496, dtype=np.float32), 'CG_recall': np.array(0.74132875), 'CG_f1': np.array(0.58016375), 'CST_precision': np.array(0.4349295, dtype=np.float32), 'CST_recall': np.array(0.7593464), 'CST_f1': np.array(0.55307886), 'FX_precision': np.array(0.20830731, dtype=np.float32), 'FX_recall': np.array(0.453125), 'FX_f1': np.array(0.28541945), 'CC_precision': np.array(0.65423614, dtype=np.float32), 'CC_recall': np.array(0.82400347), 'CC_f1': np.array(0.72937323), 'Avg_prec_tracts': np.array(0.44350696, dtype=np.float32), 'Avg_recall_tracts': np.array(0.6944509), 'Avg_f1_tracts': np.array(0.53700882)},\n",
    "    {'Other_precision': np.array(0.9519182, dtype=np.float32), 'Other_recall': np.array(0.73488038), 'Other_f1': np.array(0.82943733), 'CG_precision': np.array(0.49616945, dtype=np.float32), 'CG_recall': np.array(0.73403012), 'CG_f1': np.array(0.59210777), 'CST_precision': np.array(0.47137064, dtype=np.float32), 'CST_recall': np.array(0.77552533), 'CST_f1': np.array(0.58635515), 'FX_precision': np.array(0.21722054, dtype=np.float32), 'FX_recall': np.array(0.48845108), 'FX_f1': np.array(0.30072091), 'CC_precision': np.array(0.69916105, dtype=np.float32), 'CC_recall': np.array(0.81746745), 'CC_f1': np.array(0.75370156), 'Avg_prec_tracts': np.array(0.4709804, dtype=np.float32), 'Avg_recall_tracts': np.array(0.7038685), 'Avg_f1_tracts': np.array(0.55822135)}\n",
    "]\n",
    "\n",
    "# Extract 'f1' values and create a DataFrame\n",
    "f1_data = [{k: v.item() for k, v in d.items() if 'f1' in k} for d in data_list]\n",
    "df = pd.DataFrame(f1_data)\n",
    "\n",
    "# Display the DataFrame\n",
    "\n",
    "\n",
    "print(df.to_markdown())"
   ]
  },
  {
   "cell_type": "code",
   "execution_count": 18,
   "metadata": {},
   "outputs": [
    {
     "name": "stdout",
     "output_type": "stream",
     "text": [
      "Generated indices: [    0     1     2     3     4     5     6     7     8     9    10    11\n",
      "    12    13    14    15    16    17    18    19    20    21    22    23\n",
      "    24    26    27    28    30    32    33    35    37    39    41    43\n",
      "    46    48    51    53    56    59    62    65    69    72    76    80\n",
      "    84    89    93    98   103   109   114   120   126   133   140   147\n",
      "   155   163   171   180   189   199   210   220   232   244   256   269\n",
      "   283   298   313   329   346   364   383   403   424   445   468   492\n",
      "   518   544   572   602   633   665   699   735   773   813   855   898\n",
      "   945   993  1044  1098  1154  1213  1276  1341  1410  1483  1559  1639\n",
      "  1723  1811  1904  2002  2105  2213  2326  2446  2571  2703  2842  2988\n",
      "  3141  3302  3472  3650  3837  4034  4241  4459  4687  4928  5181  5446\n",
      "  5726  6020  6328  6653  6994  7353  7730  8127  8544  8982  9443  9927\n",
      " 10437 10972 11535 12127 12749 13403 14090 14813 15573 16371 17211 18094\n",
      " 19022 19998 21023] 159\n"
     ]
    }
   ],
   "source": [
    "import numpy as np\n",
    "\n",
    "def exponential_indices(n, num_points):\n",
    "    \"\"\"\n",
    "    Generate indices for a list with index density decreasing exponentially.\n",
    "    \n",
    "    Parameters:\n",
    "    - n: int, length of the original list.\n",
    "    - num_points: int, the number of indices to generate.\n",
    "    \n",
    "    Returns:\n",
    "    - indices: array, the generated indices.\n",
    "    \"\"\"\n",
    "    # Generate linearly spaced points in logarithmic space\n",
    "    exp_space = np.logspace(0, np.log10(n), num_points, base=10).astype(int) - 1\n",
    "    # Ensure indices are within the valid range and unique\n",
    "    exp_space = np.clip(exp_space, 0, n-1)\n",
    "    return np.unique(exp_space)\n",
    "\n",
    "# Example usage\n",
    "n = 145**2  # Length of the list\n",
    "num_points = 200  # Number of indices to generate\n",
    "indices = exponential_indices(n, num_points)\n",
    "\n",
    "print(\"Generated indices:\", indices, len(indices))"
   ]
  },
  {
   "cell_type": "code",
   "execution_count": 28,
   "metadata": {},
   "outputs": [
    {
     "name": "stdout",
     "output_type": "stream",
     "text": [
      "Generated indices: [    0    73   146   220   293   367   442   516   591   666   741   817\n",
      "   893   969  1045  1122  1199  1276  1353  1431  1509  1587  1666  1744\n",
      "  1824  1903  1982  2062  2142  2223  2304  2385  2466  2547  2629  2711\n",
      "  2794  2876  2959  3043  3126  3210  3294  3379  3463  3548  3634  3719\n",
      "  3805  3891  3978  4065  4152  4239  4327  4415  4503  4592  4681  4770\n",
      "  4860  4949  5040  5130  5221  5312  5403  5495  5587  5680  5772  5865\n",
      "  5959  6052  6146  6241  6335  6430  6526  6621  6717  6814  6910  7007\n",
      "  7105  7202  7300  7399  7497  7596  7696  7795  7895  7996  8097  8198\n",
      "  8299  8401  8503  8606  8708  8812  8915  9019  9123  9228  9333  9439\n",
      "  9544  9650  9757  9864  9971 10079 10187 10295 10404 10513 10622 10732\n",
      " 10842 10953 11064 11175 11287 11399 11512 11625 11738 11852 11966 12081\n",
      " 12196 12311 12427 12543 12659 12776 12894 13011 13130 13248 13367 13487\n",
      " 13606 13727 13847 13968 14090 14212 14334 14457 14580 14704 14828 14952\n",
      " 15077 15202 15328 15454 15581 15708 15836 15963 16092 16221 16350 16480\n",
      " 16610 16741 16872 17003 17135 17268 17401 17534 17668 17802 17937 18072\n",
      " 18208 18344 18481 18618 18756 18894 19033 19172 19311 19451 19592 19733\n",
      " 19874 20016 20159 20302 20445 20589 20734 20879] 200\n"
     ]
    }
   ],
   "source": [
    "import numpy as np\n",
    "\n",
    "def exponential_indices(n, num_points):\n",
    "    \"\"\"\n",
    "    Generate exactly num_points indices for a list with index density decreasing exponentially.\n",
    "    \n",
    "    Parameters:\n",
    "    - n: int, length of the original list.\n",
    "    - num_points: int, the number of indices to generate.\n",
    "    \n",
    "    Returns:\n",
    "    - indices: array, the generated indices.\n",
    "    \"\"\"\n",
    "    # Generate exponentially spaced values in the range [0, 1)\n",
    "    exp_values = np.logspace(0, 1, num_points, base=2, endpoint=False) - 1\n",
    "    # Scale these values to the range [0, n-1]\n",
    "    scaled_values = exp_values * (n - 1) / (2 - 1)\n",
    "    # Round and convert to integers\n",
    "    indices = np.round(scaled_values).astype(int)\n",
    "    # Ensure all indices are unique\n",
    "    indices = np.unique(indices)\n",
    "    \n",
    "    # If we have fewer unique indices than required, interpolate more points\n",
    "    while len(indices) < num_points:\n",
    "        needed_points = num_points - len(indices)\n",
    "        additional_points = np.linspace(0, n-1, needed_points, dtype=int)\n",
    "        indices = np.unique(np.concatenate((indices, additional_points)))\n",
    "    \n",
    "    # Select exactly num_points indices\n",
    "    if len(indices) > num_points:\n",
    "        indices = np.linspace(0, len(indices) - 1, num_points, dtype=int)\n",
    "        indices = indices[:num_points]\n",
    "    \n",
    "    return indices\n",
    "\n",
    "# Example usage\n",
    "n = 145**2  # Length of the list\n",
    "num_points = 200  # Number of indices to generate\n",
    "indices = exponential_indices(n, num_points)\n",
    "\n",
    "print(\"Generated indices:\", indices, len(indices))"
   ]
  },
  {
   "cell_type": "code",
   "execution_count": 30,
   "metadata": {},
   "outputs": [
    {
     "data": {
      "text/plain": [
       "[<matplotlib.lines.Line2D at 0x7efc317fc8b0>]"
      ]
     },
     "execution_count": 30,
     "metadata": {},
     "output_type": "execute_result"
    },
    {
     "data": {
      "image/png": "[encoded data removed]",
      "text/plain": [
       "<Figure size 640x480 with 1 Axes>"
      ]
     },
     "metadata": {},
     "output_type": "display_data"
    }
   ],
   "source": [
    "import matplotlib.pyplot as plt\n",
    "plt.plot(indices)"
   ]
  },
  {
   "cell_type": "code",
   "execution_count": 35,
   "metadata": {},
   "outputs": [
    {
     "name": "stdout",
     "output_type": "stream",
     "text": [
      "Generated indices: [    0     1     2     3     4     5     6     7     8     9    10    12\n",
      "    14    15    17    20    22    25    27    31    34    37    41    45\n",
      "    50    54    60    65    71    77    83    90    98   105   113   122\n",
      "   131   141   151   162   173   185   198   211   224   239   254   270\n",
      "   286   303   321   340   360   380   402   424   447   471   496   522\n",
      "   549   577   606   636   667   699   733   768   803   841   879   919\n",
      "   960  1002  1046  1091  1138  1186  1236  1287  1340  1395  1451  1508\n",
      "  1568  1629  1692  1757  1823  1892  1962  2035  2109  2185  2264  2344\n",
      "  2427  2512  2599  2688  2779  2873  2969  3068  3169  3272  3378  3487\n",
      "  3598  3712  3828  3948  4070  4194  4322  4452  4586  4722  4862  5004\n",
      "  5150  5298  5450  5605  5764  5926  6091  6259  6432  6607  6786  6969\n",
      "  7156  7346  7540  7738  7939  8145  8354  8568  8785  9007  9233  9463\n",
      "  9697  9936 10179 10427 10679 10935 11196 11462 11733 12008 12288 12573\n",
      " 12863 13158 13458 13763 14073 14388 14709 15035 15366 15703 16045 16393\n",
      " 16746 17106 17470 17841 18218 18600 18989 19383 19784 20191 20604 21024] 180\n"
     ]
    }
   ],
   "source": [
    "indices = np.unique(((np.linspace(0, 1, num=num_points)**4) * (n-1)).astype(int))\n",
    "print(\"Generated indices:\", indices, len(indices))"
   ]
  },
  {
   "cell_type": "code",
   "execution_count": 36,
   "metadata": {},
   "outputs": [
    {
     "data": {
      "text/plain": [
       "[<matplotlib.lines.Line2D at 0x7efc3154af50>]"
      ]
     },
     "execution_count": 36,
     "metadata": {},
     "output_type": "execute_result"
    },
    {
     "data": {
      "image/png": "[encoded data removed]",
      "text/plain": [
       "<Figure size 640x480 with 1 Axes>"
      ]
     },
     "metadata": {},
     "output_type": "display_data"
    }
   ],
   "source": [
    "plt.plot(indices)"
   ]
  },
  {
   "cell_type": "code",
   "execution_count": null,
   "metadata": {},
   "outputs": [],
   "source": []
  }
 ],
 "metadata": {
  "kernelspec": {
   "display_name": "Python 3",
   "language": "python",
   "name": "python3"
  },
  "language_info": {
   "codemirror_mode": {
    "name": "ipython",
    "version": 3
   },
   "file_extension": ".py",
   "mimetype": "text/x-python",
   "name": "python",
   "nbconvert_exporter": "python",
   "pygments_lexer": "ipython3",
   "version": "3.10.12"
  }
 },
 "nbformat": 4,
 "nbformat_minor": 2
}
