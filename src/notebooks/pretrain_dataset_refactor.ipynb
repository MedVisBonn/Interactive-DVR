{
 "cells": [
  {
   "cell_type": "code",
   "execution_count": 17,
   "metadata": {},
   "outputs": [],
   "source": [
    "import sys, os\n",
    "import numpy as np\n",
    "import torch\n",
    "from torch import Tensor\n",
    "from torch.utils.data import Dataset\n",
    "from torchvision import transforms\n",
    "import nibabel as nib\n",
    "from omegaconf import OmegaConf\n",
    "import nrrd\n",
    "import random\n",
    "\n",
    "sys.path.append('..')\n",
    "from user_model import UserModel\n",
    "from utils import *\n",
    "\n",
    "\n"
   ]
  },
  {
   "cell_type": "code",
   "execution_count": 34,
   "metadata": {},
   "outputs": [],
   "source": [
    "### Load basic config\n",
    "cfg = OmegaConf.load('../configs/ae_training.yaml')"
   ]
  },
  {
   "cell_type": "code",
   "execution_count": 35,
   "metadata": {},
   "outputs": [],
   "source": [
    "class PretrainingDataset(Dataset):\n",
    "    \n",
    "    def __init__(\n",
    "        self, \n",
    "        subjects: List[str],\n",
    "        data_dir: str \n",
    "    ):\n",
    "        # data_dir = cfg[\"data_dir\"]\n",
    "        # subject_dirs = [\n",
    "        #     d for d in os.listdir(data_dir) \n",
    "        #     if os.path.isdir(os.path.join(data_dir, d))\n",
    "        #     and 'corrupted' not in d\n",
    "        # ]\n",
    "        # if isinstance(cfg['subjects'], list):\n",
    "        #     subject_dirs = [d for d in subject_dirs if d in cfg['subjects']]\n",
    "\n",
    "        self.data_index = []\n",
    "        for subject in subjects:\n",
    "            slice_dir = f'{data_dir}/{subject}/Diffusion/data'\n",
    "            slice_files = [\n",
    "                f'{subject}/Diffusion/data/{f}' for f in os.listdir(slice_dir) \n",
    "                if os.path.isfile(os.path.join(slice_dir, f))\n",
    "            ]\n",
    "            self.data_index += slice_files\n",
    "\n",
    "    def __len__(self):\n",
    "        return len(self.data_index)\n",
    "    \n",
    "    def __getitem__(self, idx):\n",
    "        file_name = f'{cfg[\"data_dir\"]}/{self.data_index[idx]}'\n",
    "        data = torch.tensor(nib.load(file_name).get_fdata()).float()\n",
    "\n",
    "        return data\n",
    "    \n",
    "    \n",
    "        # file_name = f'{data_dir}/{subject_dirs[0]}/Diffusion/data.nii.gz'\n",
    "        # self.tmp = torch.tensor(nib.load(file_name).get_fdata()).float()\n",
    "\n",
    "        \n",
    "    #     # shape [145, 288, 145, 145]  [B, C, H, W]\n",
    "    #     if cfg['normalize']:\n",
    "    #         self.input = (data_in / data_in.amax(dim=(0,1,2))).permute(1,3,0,2)[14:159]\n",
    "    #     else:\n",
    "    #         self.input = data_in.permute(1,3,0,2)#[14:159]\n",
    "        \n",
    "    #     # shape [145, 145, 145]       [B, H, W]\n",
    "    #     self.brain_mask = torch.tensor(\n",
    "    #         nib.load(cfg[\"active_mask_path\"]).get_fdata(), dtype=torch.bool\n",
    "    #     ).permute(1,0,2)#[14:159]\n",
    "            \n",
    "    #     #if cfg['log']:\n",
    "    #     #    wandb.config.update({'labels': cfg['labels']})\n",
    "        \n",
    "    #     if cfg['to_gpu']:\n",
    "    #         self.input      = self.input.to(self.cfg[\"rank\"])\n",
    "    #         self.brain_mask = self.brain_mask.to(self.cfg[\"rank\"]) \n",
    "\n",
    "        \n",
    "    # def __getitem__(self, index) -> dict:\n",
    "\n",
    "    #     input_ = self.input[index]\n",
    "    #     mask = self.brain_mask[index]\n",
    "        \n",
    "    #     return {\n",
    "    #         'input': input_,\n",
    "    #         'mask':  mask\n",
    "    #     } \n",
    "    \n",
    "\n",
    "    # def __len__(self) -> int:\n",
    "    #     if self.balance:\n",
    "    #         return self.index_tensor.shape[1]\n",
    "    #     else:\n",
    "    #         return self.input.shape[0]"
   ]
  },
  {
   "cell_type": "code",
   "execution_count": 36,
   "metadata": {},
   "outputs": [],
   "source": [
    "def get_train_loader(\n",
    "    cfg: OmegaConf\n",
    "):\n",
    "    data_dir = cfg[\"data_dir\"]\n",
    "    if cfg.subjects == 'all':\n",
    "        subject_dirs = [\n",
    "            d for d in os.listdir(data_dir) \n",
    "            if os.path.isdir(os.path.join(data_dir, d))\n",
    "            and 'corrupted' not in d\n",
    "        ]\n",
    "        n_subjects     = len(subject_dirs)\n",
    "        train_subjects = subject_dirs[n_subjects//10:]\n",
    "        val_subjects   = subject_dirs[:n_subjects//10]\n",
    "        trainloader = DataLoader(\n",
    "            PretrainingDataset(train_subjects, data_dir),\n",
    "            batch_size=cfg.batch_size,\n",
    "            shuffle=True,\n",
    "            num_workers=cfg.num_workers,\n",
    "            pin_memory=True,\n",
    "            drop_last=False,\n",
    "        )\n",
    "        valloader = DataLoader(\n",
    "            PretrainingDataset(val_subjects, data_dir),\n",
    "            batch_size=cfg.batch_size,\n",
    "            shuffle=True,\n",
    "            num_workers=cfg.num_workers,\n",
    "            pin_memory=True,\n",
    "            drop_last=False,\n",
    "        )\n",
    "\n",
    "    else:\n",
    "        trainloader = DataLoader(\n",
    "            PretrainingDataset(cfg.subjects, data_dir),\n",
    "            batch_size=cfg.batch_size,\n",
    "            shuffle=True,\n",
    "            num_workers=cfg.num_workers,\n",
    "            pin_memory=True,\n",
    "            drop_last=False,\n",
    "        )\n",
    "        valloader = None\n",
    "\n",
    "    return trainloader, valloader"
   ]
  },
  {
   "cell_type": "code",
   "execution_count": 37,
   "metadata": {},
   "outputs": [],
   "source": [
    "trainloader, valloader = get_train_loader(cfg)"
   ]
  },
  {
   "cell_type": "code",
   "execution_count": 29,
   "metadata": {},
   "outputs": [],
   "source": [
    "test = PretrainingDataset(cfg)\n",
    "loader = DataLoader(test, batch_size=7, shuffle=True)"
   ]
  },
  {
   "cell_type": "code",
   "execution_count": 38,
   "metadata": {},
   "outputs": [
    {
     "name": "stdout",
     "output_type": "stream",
     "text": [
      "torch.Size([16, 288, 145, 145])\n"
     ]
    }
   ],
   "source": [
    "for batch in trainloader:\n",
    "    print(batch.shape)\n",
    "    break"
   ]
  },
  {
   "cell_type": "markdown",
   "metadata": {},
   "source": []
  }
 ],
 "metadata": {
  "kernelspec": {
   "display_name": "Python 3",
   "language": "python",
   "name": "python3"
  },
  "language_info": {
   "codemirror_mode": {
    "name": "ipython",
    "version": 3
   },
   "file_extension": ".py",
   "mimetype": "text/x-python",
   "name": "python",
   "nbconvert_exporter": "python",
   "pygments_lexer": "ipython3",
   "version": "3.10.12"
  }
 },
 "nbformat": 4,
 "nbformat_minor": 2
}
