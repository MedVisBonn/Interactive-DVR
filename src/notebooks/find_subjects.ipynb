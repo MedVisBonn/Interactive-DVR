{
 "cells": [
  {
   "cell_type": "code",
   "execution_count": 1,
   "metadata": {},
   "outputs": [
    {
     "name": "stderr",
     "output_type": "stream",
     "text": [
      "/usr/local/lib/python3.10/dist-packages/tqdm/auto.py:21: TqdmWarning: IProgress not found. Please update jupyter and ipywidgets. See https://ipywidgets.readthedocs.io/en/stable/user_install.html\n",
      "  from .autonotebook import tqdm as notebook_tqdm\n"
     ]
    }
   ],
   "source": [
    "import sys, os\n",
    "from omegaconf import OmegaConf\n",
    "import random"
   ]
  },
  {
   "cell_type": "code",
   "execution_count": 2,
   "metadata": {},
   "outputs": [],
   "source": [
    "# Load config\n",
    "cfg = OmegaConf.load('../configs/ae_training.yaml')"
   ]
  },
  {
   "cell_type": "code",
   "execution_count": 5,
   "metadata": {},
   "outputs": [
    {
     "name": "stdout",
     "output_type": "stream",
     "text": [
      "('987983' '709551' '677968' '792564' '782561' '770352' '729557' '705341' '917255' '702133' '877168' '679568' '992774' '958976' '765056' '771354')\n"
     ]
    }
   ],
   "source": [
    "data_dir = cfg[\"data_dir\"]\n",
    "if cfg.subjects == 'all':\n",
    "    subject_dirs = [\n",
    "        d for d in os.listdir(data_dir) \n",
    "        if os.path.isdir(os.path.join(data_dir, d))\n",
    "        and 'corrupted' not in d\n",
    "    ]\n",
    "    n_subjects     = len(subject_dirs)\n",
    "    train_subjects = subject_dirs[n_subjects//10:]\n",
    "    val_subjects   = subject_dirs[:n_subjects//10]\n",
    "\n",
    "\n",
    "random.seed(42)\n",
    "random_subjects = random.sample(train_subjects, 16)\n",
    "\n",
    "output = '('\n",
    "for subject in random_subjects:\n",
    "    output += f\"'{subject}' \"\n",
    "output = output[:-1] + ')'\n",
    "print(output)"
   ]
  }
 ],
 "metadata": {
  "kernelspec": {
   "display_name": "Python 3",
   "language": "python",
   "name": "python3"
  },
  "language_info": {
   "codemirror_mode": {
    "name": "ipython",
    "version": 3
   },
   "file_extension": ".py",
   "mimetype": "text/x-python",
   "name": "python",
   "nbconvert_exporter": "python",
   "pygments_lexer": "ipython3",
   "version": "3.10.12"
  }
 },
 "nbformat": 4,
 "nbformat_minor": 2
}
