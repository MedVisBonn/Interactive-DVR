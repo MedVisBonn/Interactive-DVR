{
 "cells": [
  {
   "cell_type": "code",
   "execution_count": 23,
   "metadata": {},
   "outputs": [],
   "source": [
    "import sys, os\n",
    "import numpy as np\n",
    "import torch\n",
    "from torch import Tensor\n",
    "from torch.utils.data import Dataset\n",
    "from torchvision import transforms\n",
    "import nibabel as nib\n",
    "from omegaconf import OmegaConf\n",
    "import nrrd\n",
    "import random\n",
    "\n",
    "sys.path.append('..')\n",
    "from user_model import UserModel\n",
    "from utils import *\n",
    "\n",
    "\n"
   ]
  },
  {
   "cell_type": "code",
   "execution_count": 27,
   "metadata": {},
   "outputs": [],
   "source": [
    "### Load basic config\n",
    "cfg = OmegaConf.load('../configs/ae_training.yaml')"
   ]
  },
  {
   "cell_type": "code",
   "execution_count": 28,
   "metadata": {},
   "outputs": [],
   "source": [
    "class PretrainingDataset(Dataset):\n",
    "    \n",
    "    def __init__(\n",
    "        self, \n",
    "        cfg, \n",
    "    ):\n",
    "        data_dir = cfg[\"data_dir\"]\n",
    "        subject_dirs = [\n",
    "            d for d in os.listdir(data_dir) \n",
    "            if os.path.isdir(os.path.join(data_dir, d))\n",
    "        ]\n",
    "        if isinstance(cfg['subjects'], list):\n",
    "            subject_dirs = [d for d in subject_dirs if d in cfg['subjects']]\n",
    "\n",
    "            \n",
    "        print(subject_dirs)\n",
    "\n",
    "    #     data_in = torch.tensor(nib.load(cfg[\"data_path\"]).get_fdata()).float()\n",
    "        \n",
    "    #     # shape [145, 288, 145, 145]  [B, C, H, W]\n",
    "    #     if cfg['normalize']:\n",
    "    #         self.input = (data_in / data_in.amax(dim=(0,1,2))).permute(1,3,0,2)[14:159]\n",
    "    #     else:\n",
    "    #         self.input = data_in.permute(1,3,0,2)#[14:159]\n",
    "        \n",
    "    #     # shape [145, 145, 145]       [B, H, W]\n",
    "    #     self.brain_mask = torch.tensor(\n",
    "    #         nib.load(cfg[\"active_mask_path\"]).get_fdata(), dtype=torch.bool\n",
    "    #     ).permute(1,0,2)#[14:159]\n",
    "            \n",
    "    #     #if cfg['log']:\n",
    "    #     #    wandb.config.update({'labels': cfg['labels']})\n",
    "        \n",
    "    #     if cfg['to_gpu']:\n",
    "    #         self.input      = self.input.to(self.cfg[\"rank\"])\n",
    "    #         self.brain_mask = self.brain_mask.to(self.cfg[\"rank\"]) \n",
    "\n",
    "        \n",
    "    # def __getitem__(self, index) -> dict:\n",
    "\n",
    "    #     input_ = self.input[index]\n",
    "    #     mask = self.brain_mask[index]\n",
    "        \n",
    "    #     return {\n",
    "    #         'input': input_,\n",
    "    #         'mask':  mask\n",
    "    #     } \n",
    "    \n",
    "\n",
    "    # def __len__(self) -> int:\n",
    "    #     if self.balance:\n",
    "    #         return self.index_tensor.shape[1]\n",
    "    #     else:\n",
    "    #         return self.input.shape[0]"
   ]
  },
  {
   "cell_type": "code",
   "execution_count": 29,
   "metadata": {},
   "outputs": [
    {
     "name": "stdout",
     "output_type": "stream",
     "text": [
      "['599469', '599671', '601127', '613538', '620434', '622236', '623844', '627549', '638049', '644044', '645551', '654754', '665254', '672756', '673455', '677968', '679568', '680957', '683256', '685058', '687163', '690152', '695768', '702133', '704238', '705341', '709551', '715041', '715647', '729254', '729557', '732243', '734045', '742549', '748258', '748662', '749361', '751348', '753251', '756055', '759869', '761957', '765056', '770352', '771354', '779370', '782561', '784565', '786569', '789373', '792564', '792766', '802844', '814649', '816653', '826353', '826454', '833148', '833249', '837560', '837964', '845458', '849971', '856766', '857263', '859671', '861456', '865363', '871762', '871964', '872158', '872764', '877168', '877269', '887373', '889579', '894673', '896778', '896879', '898176', '899885', '901038', '901139', '901442', '904044', '907656', '910241', '912447', '917255', '922854', '930449', '932554', '951457', '957974', '958976', '959574', '965367', '965771', '978578', '979984', '983773', '984472', '987983', '991267', '992774']\n"
     ]
    }
   ],
   "source": [
    "test = PretrainingDataset(cfg)"
   ]
  },
  {
   "cell_type": "code",
   "execution_count": null,
   "metadata": {},
   "outputs": [],
   "source": []
  }
 ],
 "metadata": {
  "kernelspec": {
   "display_name": "Python 3",
   "language": "python",
   "name": "python3"
  },
  "language_info": {
   "codemirror_mode": {
    "name": "ipython",
    "version": 3
   },
   "file_extension": ".py",
   "mimetype": "text/x-python",
   "name": "python",
   "nbconvert_exporter": "python",
   "pygments_lexer": "ipython3",
   "version": "3.10.12"
  }
 },
 "nbformat": 4,
 "nbformat_minor": 2
}
