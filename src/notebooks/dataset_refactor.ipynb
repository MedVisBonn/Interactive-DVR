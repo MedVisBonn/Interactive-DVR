{
 "cells": [
  {
   "cell_type": "code",
   "execution_count": 23,
   "metadata": {},
   "outputs": [],
   "source": [
    "import sys, os\n",
    "import numpy as np\n",
    "import torch\n",
    "from torch import Tensor\n",
    "from torch.utils.data import Dataset\n",
    "from torchvision import transforms\n",
    "import nibabel as nib\n",
    "from omegaconf import OmegaConf\n",
    "import nrrd\n",
    "import random\n",
    "\n",
    "sys.path.append('..')\n",
    "from user_model import UserModel\n",
    "from utils import *\n",
    "\n",
    "\n"
   ]
  },
  {
   "cell_type": "code",
   "execution_count": 34,
   "metadata": {},
   "outputs": [],
   "source": [
    "### Load basic config\n",
    "cfg = OmegaConf.load('../configs/ae_training.yaml')"
   ]
  },
  {
   "cell_type": "code",
   "execution_count": 50,
   "metadata": {},
   "outputs": [],
   "source": [
    "class PretrainingDataset(Dataset):\n",
    "    \n",
    "    def __init__(\n",
    "        self, \n",
    "        cfg, \n",
    "    ):\n",
    "        data_dir = cfg[\"data_dir\"]\n",
    "        subject_dirs = [\n",
    "            d for d in os.listdir(data_dir) \n",
    "            if os.path.isdir(os.path.join(data_dir, d))\n",
    "        ]\n",
    "        if isinstance(cfg['subjects'], list):\n",
    "            subject_dirs = [d for d in subject_dirs if d in cfg['subjects']]\n",
    "\n",
    "        self.data_index = []\n",
    "        for subject in subject_dirs:\n",
    "            slice_dir = f'{data_dir}/{subject}/Diffusion/data'\n",
    "            slice_files = [\n",
    "                f'{subject}/Diffusion/data/{f}' for f in os.listdir(slice_dir) \n",
    "                if os.path.isfile(os.path.join(slice_dir, f))\n",
    "            ]\n",
    "            self.data_index += slice_files\n",
    "\n",
    "    def __len__(self):\n",
    "        return len(self.data_index)\n",
    "    \n",
    "    def __getitem__(self, idx):\n",
    "        file_name = f'{cfg[\"data_dir\"]}/{self.data_index[idx]}'\n",
    "        data = torch.tensor(nib.load(file_name).get_fdata()).float()\n",
    "\n",
    "        return data\n",
    "    \n",
    "    \n",
    "        # file_name = f'{data_dir}/{subject_dirs[0]}/Diffusion/data.nii.gz'\n",
    "        # self.tmp = torch.tensor(nib.load(file_name).get_fdata()).float()\n",
    "\n",
    "        \n",
    "    #     # shape [145, 288, 145, 145]  [B, C, H, W]\n",
    "    #     if cfg['normalize']:\n",
    "    #         self.input = (data_in / data_in.amax(dim=(0,1,2))).permute(1,3,0,2)[14:159]\n",
    "    #     else:\n",
    "    #         self.input = data_in.permute(1,3,0,2)#[14:159]\n",
    "        \n",
    "    #     # shape [145, 145, 145]       [B, H, W]\n",
    "    #     self.brain_mask = torch.tensor(\n",
    "    #         nib.load(cfg[\"active_mask_path\"]).get_fdata(), dtype=torch.bool\n",
    "    #     ).permute(1,0,2)#[14:159]\n",
    "            \n",
    "    #     #if cfg['log']:\n",
    "    #     #    wandb.config.update({'labels': cfg['labels']})\n",
    "        \n",
    "    #     if cfg['to_gpu']:\n",
    "    #         self.input      = self.input.to(self.cfg[\"rank\"])\n",
    "    #         self.brain_mask = self.brain_mask.to(self.cfg[\"rank\"]) \n",
    "\n",
    "        \n",
    "    # def __getitem__(self, index) -> dict:\n",
    "\n",
    "    #     input_ = self.input[index]\n",
    "    #     mask = self.brain_mask[index]\n",
    "        \n",
    "    #     return {\n",
    "    #         'input': input_,\n",
    "    #         'mask':  mask\n",
    "    #     } \n",
    "    \n",
    "\n",
    "    # def __len__(self) -> int:\n",
    "    #     if self.balance:\n",
    "    #         return self.index_tensor.shape[1]\n",
    "    #     else:\n",
    "    #         return self.input.shape[0]"
   ]
  },
  {
   "cell_type": "code",
   "execution_count": 51,
   "metadata": {},
   "outputs": [],
   "source": [
    "test = PretrainingDataset(cfg)"
   ]
  },
  {
   "cell_type": "code",
   "execution_count": 53,
   "metadata": {},
   "outputs": [
    {
     "data": {
      "text/plain": [
       "18270"
      ]
     },
     "execution_count": 53,
     "metadata": {},
     "output_type": "execute_result"
    }
   ],
   "source": [
    "len(test.data_index)"
   ]
  },
  {
   "cell_type": "markdown",
   "metadata": {},
   "source": []
  }
 ],
 "metadata": {
  "kernelspec": {
   "display_name": "Python 3",
   "language": "python",
   "name": "python3"
  },
  "language_info": {
   "codemirror_mode": {
    "name": "ipython",
    "version": 3
   },
   "file_extension": ".py",
   "mimetype": "text/x-python",
   "name": "python",
   "nbconvert_exporter": "python",
   "pygments_lexer": "ipython3",
   "version": "3.10.12"
  }
 },
 "nbformat": 4,
 "nbformat_minor": 2
}
